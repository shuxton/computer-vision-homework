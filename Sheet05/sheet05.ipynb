{
 "cells": [
  {
   "cell_type": "markdown",
   "id": "1a90481d",
   "metadata": {
    "deletable": false,
    "editable": false,
    "nbgrader": {
     "cell_type": "markdown",
     "checksum": "06a5b796a3583e5de63b40848e61feab",
     "grade": false,
     "grade_id": "h00",
     "locked": true,
     "schema_version": 3,
     "solution": false
    }
   },
   "source": [
    "Osnabrück University - Computer Vision (Winter Term 2024/25) - Dr. Ulf Krumnack, Lukas Niehaus, Robin Rawiel"
   ]
  },
  {
   "cell_type": "markdown",
   "id": "3df16e3a",
   "metadata": {
    "deletable": false,
    "editable": false,
    "nbgrader": {
     "cell_type": "markdown",
     "checksum": "5d5c82c66a900b66c3d9a33e5836fb4e",
     "grade": false,
     "grade_id": "cell-5a896fb58e2e26c8",
     "locked": true,
     "schema_version": 3,
     "solution": false
    }
   },
   "source": [
    "# Exercise Sheet 05: Fourier Transform"
   ]
  },
  {
   "cell_type": "markdown",
   "id": "3a083d89",
   "metadata": {
    "deletable": false,
    "editable": false,
    "nbgrader": {
     "cell_type": "markdown",
     "checksum": "dc90038d57755802dad18f4c37808fe6",
     "grade": false,
     "grade_id": "cell-b909516194670b69",
     "locked": true,
     "schema_version": 3,
     "solution": false
    }
   },
   "source": [
    "## Introduction\n",
    "\n",
    "This week's sheet should be solved and handed in before end of **Monday, December 16, 2024**. If you need help (and Google and other resources were not enough), feel free to use the Stud.IP forum. Please upload your results to your group's Stud.IP folder."
   ]
  },
  {
   "cell_type": "markdown",
   "id": "daa927c7",
   "metadata": {
    "deletable": false,
    "editable": false,
    "nbgrader": {
     "cell_type": "markdown",
     "checksum": "462940442ac4648c0ff354eb9ed772af",
     "grade": false,
     "grade_id": "cell-0f23fe4f5fc608a0",
     "locked": true,
     "schema_version": 3,
     "solution": false
    }
   },
   "source": [
    "## Assignment 0: Math recap (Periodic functions) [0 Points]\n",
    "\n",
    "This exercise does not give any points, and is voluntary. There will be a similar exercise on every sheet. It is intended to revise some basic mathematical notions that are assumed throughout this class and to allow you to check if you are comfortable with them. Usually you should have no problem to answer these questions offhand, but if you feel unsure, this is a good time to look them up again. You are always welcome to discuss questions with the tutors or in the practice session. Also, if you have a (math) topic you would like to recap, please let us know."
   ]
  },
  {
   "cell_type": "markdown",
   "id": "26419d6b",
   "metadata": {
    "deletable": false,
    "editable": false,
    "nbgrader": {
     "cell_type": "markdown",
     "checksum": "b31c822376556fb6e7f8b071632d5d47",
     "grade": false,
     "grade_id": "cell-ea301a189131ace2",
     "locked": true,
     "schema_version": 3,
     "solution": false
    }
   },
   "source": [
    "**a)** What are periodic functions? Can you provide a definition?"
   ]
  },
  {
   "cell_type": "markdown",
   "id": "1ce08df4",
   "metadata": {
    "deletable": false,
    "nbgrader": {
     "cell_type": "markdown",
     "checksum": "92962ca5065f91326b7c70d91a36d8c3",
     "grade": true,
     "grade_id": "cell-c179a0d85e719ea5",
     "locked": false,
     "points": 0,
     "schema_version": 3,
     "solution": true
    },
    "solution": true
   },
   "source": [
    "YOUR ANSWER HERE"
   ]
  },
  {
   "cell_type": "markdown",
   "id": "0e766cd2",
   "metadata": {
    "deletable": false,
    "editable": false,
    "nbgrader": {
     "cell_type": "markdown",
     "checksum": "2b5480c4d2077c1ee2f720d626ae408b",
     "grade": false,
     "grade_id": "cell-cd34893bcdd7d7c1",
     "locked": true,
     "schema_version": 3,
     "solution": false
    }
   },
   "source": [
    "**b)** What are *amplitude*, *frequency*, *wave length*, and *phase* of a sine function? How can you change these properties?"
   ]
  },
  {
   "cell_type": "markdown",
   "id": "93ff9ee6",
   "metadata": {
    "deletable": false,
    "nbgrader": {
     "cell_type": "markdown",
     "checksum": "9fc57a43e8b1454e521a06a27fad5929",
     "grade": true,
     "grade_id": "cell-353f1c67a9fc45b7",
     "locked": false,
     "points": 0,
     "schema_version": 3,
     "solution": true
    },
    "solution": true
   },
   "source": [
    "YOUR ANSWER HERE"
   ]
  },
  {
   "cell_type": "markdown",
   "id": "3c456e27",
   "metadata": {
    "deletable": false,
    "editable": false,
    "nbgrader": {
     "cell_type": "markdown",
     "checksum": "5d154bb8fab47720af8d625955a76bb3",
     "grade": false,
     "grade_id": "cell-20750512d8d75573",
     "locked": true,
     "schema_version": 3,
     "solution": false
    }
   },
   "source": [
    "**c)** How are sine and cosine defined for complex arguments? In what sense does this generalize the real case?"
   ]
  },
  {
   "cell_type": "markdown",
   "id": "49dca8bd",
   "metadata": {
    "deletable": false,
    "nbgrader": {
     "cell_type": "markdown",
     "checksum": "67376a2b51a678e94da2e8d0aa4bb3ad",
     "grade": true,
     "grade_id": "cell-877fd6d7323b1978",
     "locked": false,
     "points": 0,
     "schema_version": 3,
     "solution": true
    },
    "solution": true
   },
   "source": [
    "YOUR ANSWER HERE"
   ]
  },
  {
   "cell_type": "markdown",
   "id": "66f77cd4",
   "metadata": {
    "deletable": false,
    "editable": false,
    "nbgrader": {
     "cell_type": "markdown",
     "checksum": "992593f32682ab596b59d2b60464bacd",
     "grade": false,
     "grade_id": "ft-understand-00",
     "locked": true,
     "schema_version": 3,
     "solution": false
    }
   },
   "source": [
    "## Assignment 1: Understanding Fourier Transform (7 points)\n",
    "\n",
    "This exercise aims at getting some intuition of finite, 2d-Fourier transform."
   ]
  },
  {
   "cell_type": "markdown",
   "id": "e833fc91",
   "metadata": {
    "deletable": false,
    "editable": false,
    "nbgrader": {
     "cell_type": "markdown",
     "checksum": "d1cdc2fb8319d1b8d4d0915408d711b6",
     "grade": false,
     "grade_id": "ft-understand-01",
     "locked": true,
     "schema_version": 3,
     "solution": false
    }
   },
   "source": [
    "*Hint:* Python and numpy can deal with complex numbers: `np.real()` and `np.imag()` provide the real and imaginary parts. `np.abs()` and `np.angle()` provide amplitude and phase. `np.conj()` gives the complex conjugate."
   ]
  },
  {
   "cell_type": "markdown",
   "id": "7d7ea401",
   "metadata": {
    "deletable": false,
    "editable": false,
    "nbgrader": {
     "cell_type": "markdown",
     "checksum": "619caf397f6a5d2dd9a1d4ebadc70da7",
     "grade": false,
     "grade_id": "ft-understand-q1",
     "locked": true,
     "schema_version": 3,
     "solution": false
    }
   },
   "source": [
    "**a)** Transform the image `dolly.png` into the frequency space (you may use the function\n",
    "`numpy.fft.fft2`). The result will be a complex matrix. Plot histograms for the amplitude and phase\n",
    "values. You may take the logarithm of the amplitude to enhance contrast."
   ]
  },
  {
   "cell_type": "code",
   "execution_count": null,
   "id": "5a452701",
   "metadata": {
    "deletable": false,
    "nbgrader": {
     "cell_type": "code",
     "checksum": "c1303732bcf342a129f3bb93f09f07af",
     "grade": true,
     "grade_id": "ft-understand-a1",
     "locked": false,
     "points": 1,
     "schema_version": 3,
     "solution": true
    }
   },
   "outputs": [],
   "source": [
    "%matplotlib inline\n",
    "import numpy as np\n",
    "import matplotlib.pyplot as plt\n",
    "\n",
    "img = plt.imread('images/dolly.png')\n",
    "\n",
    "\n",
    "# YOUR CODE HERE\n",
    "raise NotImplementedError()\n",
    "plt.show()"
   ]
  },
  {
   "cell_type": "markdown",
   "id": "0a71409f",
   "metadata": {
    "deletable": false,
    "editable": false,
    "nbgrader": {
     "cell_type": "markdown",
     "checksum": "273b6b188686819f4b53c6dfb31c6aa6",
     "grade": false,
     "grade_id": "ft-understand-q2",
     "locked": true,
     "schema_version": 3,
     "solution": false
    }
   },
   "source": [
    "**b)** Display the amplitude and phase in separate images. You may again take the logarithm of\n",
    "the amplitude to enhance the contrast. You may also center the base frequency (see function `numpy.fft.fftshift`). Compare your results with CV-06, slide 16-20."
   ]
  },
  {
   "cell_type": "code",
   "execution_count": null,
   "id": "38c707db",
   "metadata": {
    "deletable": false,
    "nbgrader": {
     "cell_type": "code",
     "checksum": "abdd5a2cd92d7a0ea1844ed6ec6bf61f",
     "grade": true,
     "grade_id": "ft-understand-a2",
     "locked": false,
     "points": 2,
     "schema_version": 3,
     "solution": true
    }
   },
   "outputs": [],
   "source": [
    "%matplotlib inline\n",
    "import numpy as np\n",
    "import matplotlib.pyplot as plt\n",
    "\n",
    "img = plt.imread('images/dolly.png')\n",
    "\n",
    "# YOUR CODE HERE\n",
    "raise NotImplementedError()"
   ]
  },
  {
   "cell_type": "markdown",
   "id": "dc81827c",
   "metadata": {
    "deletable": false,
    "editable": false,
    "nbgrader": {
     "cell_type": "markdown",
     "checksum": "091057426fed8f92d84823bd6af6b740",
     "grade": false,
     "grade_id": "cell-85ec5f02796b3c64",
     "locked": true,
     "schema_version": 3,
     "solution": false
    }
   },
   "source": [
    "**c)** Transform the image back from the frequency space to the image space (again using `fft2`).\n",
    "What do you observe? Explain and repair the result."
   ]
  },
  {
   "cell_type": "code",
   "execution_count": null,
   "id": "a75de1c3",
   "metadata": {
    "deletable": false,
    "nbgrader": {
     "cell_type": "code",
     "checksum": "a71f2b57c08f8c163ac9018b861a5950",
     "grade": true,
     "grade_id": "cell-f90298e96bac4886",
     "locked": false,
     "points": 1,
     "schema_version": 3,
     "solution": true
    }
   },
   "outputs": [],
   "source": [
    "%matplotlib inline\n",
    "import numpy as np\n",
    "import matplotlib.pyplot as plt\n",
    "\n",
    "img = plt.imread('images/dolly.png')\n",
    "\n",
    "# YOUR CODE HERE\n",
    "raise NotImplementedError()\n",
    "\n",
    "plt.show()"
   ]
  },
  {
   "cell_type": "markdown",
   "id": "19b647b8",
   "metadata": {
    "deletable": false,
    "nbgrader": {
     "cell_type": "markdown",
     "checksum": "81249d314f16f66908a89325519f22bf",
     "grade": true,
     "grade_id": "cell-84dbf217ef2fc5a5",
     "locked": false,
     "points": 1,
     "schema_version": 3,
     "solution": true,
     "task": false
    }
   },
   "source": [
    "YOUR ANSWER HERE"
   ]
  },
  {
   "cell_type": "markdown",
   "id": "233d78f8",
   "metadata": {
    "deletable": false,
    "editable": false,
    "nbgrader": {
     "cell_type": "markdown",
     "checksum": "b89bb9d2500a3f7abc3db3e1a01b3702",
     "grade": false,
     "grade_id": "cell-99951c601b6ce294",
     "locked": true,
     "schema_version": 3,
     "solution": false
    }
   },
   "source": [
    "**d)** Now restore the image, but only keep the amplitude and vary the phase. Try fixed phase\n",
    "values (0, $\\pi/2$,. . . ), a random phase matrix, or a noisy version of the original phase values."
   ]
  },
  {
   "cell_type": "code",
   "execution_count": null,
   "id": "a63aab32",
   "metadata": {
    "deletable": false,
    "nbgrader": {
     "cell_type": "code",
     "checksum": "2292531e0361ae95f22ae32d801e687d",
     "grade": true,
     "grade_id": "cell-1fce27ce15d69d4f",
     "locked": false,
     "points": 1,
     "schema_version": 3,
     "solution": true
    }
   },
   "outputs": [],
   "source": [
    "%matplotlib inline\n",
    "import numpy as np\n",
    "import matplotlib.pyplot as plt\n",
    "\n",
    "img = plt.imread('images/dollySquared.jpg')\n",
    "\n",
    "# YOUR CODE HERE\n",
    "raise NotImplementedError()"
   ]
  },
  {
   "cell_type": "markdown",
   "id": "ffa1e97e",
   "metadata": {
    "deletable": false,
    "editable": false,
    "nbgrader": {
     "cell_type": "markdown",
     "checksum": "b360e3b148f5d580e8385b9004c38aa1",
     "grade": false,
     "grade_id": "cell-200bf23f94b4f4e4",
     "locked": true,
     "schema_version": 3,
     "solution": false
    }
   },
   "source": [
    "**e)** We do the same, but now we keep the phase while varying the amplitude values, i.e. constant,\n",
    "amplitude, randomly distributed amplitudes and noisy versions of the the original values.\n",
    "\n",
    "Explain the results!\n"
   ]
  },
  {
   "cell_type": "code",
   "execution_count": null,
   "id": "c6b73a91",
   "metadata": {
    "deletable": false,
    "editable": false,
    "nbgrader": {
     "cell_type": "code",
     "checksum": "67fda4823eb0d072cffc0cf7ae628c4e",
     "grade": false,
     "grade_id": "cell-1ee06f93fcdda2e1",
     "locked": true,
     "schema_version": 3,
     "solution": false
    }
   },
   "outputs": [],
   "source": [
    "%matplotlib inline\n",
    "import numpy as np\n",
    "import matplotlib.pyplot as plt\n",
    "\n",
    "img = plt.imread('images/dolly.png')\n",
    "\n",
    "# Perform (fast) Fourier transform\n",
    "ft = np.fft.fft2(img)\n",
    "\n",
    "# Get amplitude and phase\n",
    "amplitude = np.abs(ft)\n",
    "phase = np.angle(ft)\n",
    "\n",
    "amplitudes = []\n",
    "amplitudes.append((amplitude, \"original amplitude\"))\n",
    "amplitudes.append((np.zeros(amplitude.shape), \"zero amplitude\"))\n",
    "amplitudes.append((np.ones(amplitude.shape)*amplitude.max(), \"constant amplitude\"))\n",
    "amplitudes.append((np.random.rand(*amplitude.shape), \"random amplitude\"))\n",
    "amplitudes.append((amplitude, \"original amplitude\"))\n",
    "\n",
    "plt.figure(figsize=(12, 16)); plt.gray()\n",
    "plt.subplot(3, 2, 1); plt.axis('off'); plt.imshow(img); plt.title('Original')\n",
    "\n",
    "for i, (amp, tit) in enumerate(amplitudes):\n",
    "    ft0 = amp * np.exp(1j * phase)\n",
    "    img0 = np.abs(np.fft.ifft2(ft0))\n",
    "    plt.subplot(3, 2, 2+i); plt.axis('off'); plt.title(tit)\n",
    "    plt.imshow(img0)\n",
    "\n",
    "plt.show()"
   ]
  },
  {
   "cell_type": "markdown",
   "id": "736dfc8b",
   "metadata": {
    "deletable": false,
    "editable": false,
    "nbgrader": {
     "cell_type": "markdown",
     "checksum": "3f5abe609d2afc5403cdc0c386112201",
     "grade": false,
     "grade_id": "ft-impl",
     "locked": true,
     "schema_version": 3,
     "solution": false
    }
   },
   "source": [
    "## Assignment 2: Implementing Fourier Transform (6 points)"
   ]
  },
  {
   "cell_type": "markdown",
   "id": "9727ad07",
   "metadata": {
    "deletable": false,
    "editable": false,
    "nbgrader": {
     "cell_type": "markdown",
     "checksum": "06ad5784d1afecd6e2c76fe21f29c9e4",
     "grade": false,
     "grade_id": "ft-impl-q1",
     "locked": true,
     "schema_version": 3,
     "solution": false
    }
   },
   "source": [
    "**a)** \n",
    "Explain in your own words the idea of Fourier transform. What is the frequency space? What does a point in that space represent?"
   ]
  },
  {
   "cell_type": "markdown",
   "id": "cd788011",
   "metadata": {
    "deletable": false,
    "nbgrader": {
     "cell_type": "markdown",
     "checksum": "190791c0ffc6d7a9208407e204eb370b",
     "grade": true,
     "grade_id": "ft-impl-a1",
     "locked": false,
     "points": 1,
     "schema_version": 3,
     "solution": true
    },
    "solution": true
   },
   "source": [
    "YOUR ANSWER HERE"
   ]
  },
  {
   "cell_type": "markdown",
   "id": "4add210d",
   "metadata": {
    "deletable": false,
    "editable": false,
    "nbgrader": {
     "cell_type": "markdown",
     "checksum": "f4f972b9200fb8c67449a8df7b81cdd8",
     "grade": false,
     "grade_id": "ft-impl-q2",
     "locked": true,
     "schema_version": 3,
     "solution": false
    }
   },
   "source": [
    "**b)** First implement a one-dimensional discrete version of Fourier transform, i.e. use the formula\n",
    "$$ c_n = \\sum_{x=0}^{L-1} f(x)\\cdot e^{-\\tfrac{2\\pi i\\cdot n}{L}\\cdot x} \\qquad \\text{for $n=0,\\ldots,L-1$}$$\n",
    "for complex valued coefficients.\n",
    "\n",
    "Plot the graph and the results of your Fourier transform, using the Matplotlib function `plot()`, for different functions. Compare your results with the output of the function `numpy.fft.fft`."
   ]
  },
  {
   "cell_type": "code",
   "execution_count": null,
   "id": "7a00d04c",
   "metadata": {
    "deletable": false,
    "nbgrader": {
     "cell_type": "code",
     "checksum": "32738aa5d718f3a2946d288281c70a6f",
     "grade": true,
     "grade_id": "cell-ft-impl-a2",
     "locked": false,
     "points": 2,
     "schema_version": 3,
     "solution": true
    }
   },
   "outputs": [],
   "source": [
    "%matplotlib inline\n",
    "import numpy as np\n",
    "from scipy import misc\n",
    "import matplotlib.pyplot as plt\n",
    "\n",
    "\n",
    "def fourier1d(func):\n",
    "    \"\"\"\n",
    "    Perform a discrete 1D Fourier transform.\n",
    "    \n",
    "    Args:\n",
    "        func (ndarray): 1-D array containing the function values.\n",
    "    \n",
    "    Returns:\n",
    "        ndarray (complex): The Fourier transformed function.\n",
    "    \"\"\"\n",
    "    ft = np.zeros(func.shape, dtype=complex)\n",
    "\n",
    "    # YOUR CODE HERE\n",
    "    raise NotImplementedError()\n",
    "\n",
    "    return ft\n",
    "\n",
    "\n",
    "# number of points\n",
    "L = np.arange(100)\n",
    "\n",
    "\n",
    "def gaussian(x, mu, sig):\n",
    "    return np.exp(-np.power(x - mu, 2.) / (2 * np.power(sig, 2.)))\n",
    "\n",
    "\n",
    "func = np.sin(2 * np.pi * L / len(L))\n",
    "#func = np.zeros(L.shape)\n",
    "#func[40:60] = 1\n",
    "#func = gaussian(L, 0, 10)\n",
    "\n",
    "# Own implementation.\n",
    "ft = fourier1d(func)\n",
    "plt.figure(figsize=(12, 8))\n",
    "plt.suptitle('Own implementation');\n",
    "plt.subplot(1, 3, 1); plt.plot(L, func); plt.title('Function')\n",
    "plt.subplot(1, 3, 2); plt.plot(L, np.abs(ft)); plt.title('FT (Amplitude)')\n",
    "plt.subplot(1, 3, 3); plt.plot(L, np.angle(ft)); plt.title('FT (Phase)')\n",
    "plt.show()\n",
    "\n",
    "# Numpy implementation.\n",
    "ft = np.fft.fft(func)\n",
    "\n",
    "plt.figure(figsize=(12, 8))\n",
    "plt.suptitle('Numpy implementation (FFT)')\n",
    "plt.subplot(1, 3, 1); plt.plot(L, func); plt.title('Function')\n",
    "plt.subplot(1, 3, 2); plt.plot(L, np.abs(ft)); plt.title('FT (Amplitude)')\n",
    "plt.subplot(1, 3, 3); plt.plot(L, np.angle(ft)); plt.title('FT (Phase)')\n",
    "plt.show()"
   ]
  },
  {
   "cell_type": "markdown",
   "id": "615b7715",
   "metadata": {
    "deletable": false,
    "editable": false,
    "nbgrader": {
     "cell_type": "markdown",
     "checksum": "8b4d8e8d0d51731c6c92e66358069aa8",
     "grade": false,
     "grade_id": "cell-d47f76dd5d23a43b",
     "locked": true,
     "schema_version": 3,
     "solution": false
    }
   },
   "source": [
    "**c)** Now implement a 2-dimensional version of Fourier transform for images, using the formula from the lecture. Compare your result with the output of `fft2`. \n",
    "Hint: If you experience long runtimes use a smaller part of the image for development. "
   ]
  },
  {
   "cell_type": "code",
   "execution_count": null,
   "id": "299e1c35",
   "metadata": {
    "deletable": false,
    "nbgrader": {
     "cell_type": "code",
     "checksum": "ff288b04b9c2deb3f1910dfcfc5a0837",
     "grade": true,
     "grade_id": "cell-054ba109930f9f84",
     "locked": false,
     "points": 3,
     "schema_version": 3,
     "solution": true
    }
   },
   "outputs": [],
   "source": [
    "%matplotlib inline\n",
    "import numpy as np\n",
    "import matplotlib.pyplot as plt\n",
    "\n",
    "\n",
    "def fourier2d(img):\n",
    "    \"\"\"\n",
    "    Perform discrete 2D Fourier transform of a given image.\n",
    "    \n",
    "    Args:\n",
    "        img (ndarray): Input image.\n",
    "        \n",
    "    Returns:\n",
    "    \n",
    "    \"\"\"\n",
    "\n",
    "    ft = np.zeros(img.shape)\n",
    "\n",
    "    # YOUR CODE HERE\n",
    "    raise NotImplementedError()\n",
    "\n",
    "    return ft\n",
    "\n",
    "\n",
    "# Now (visually) compare your results with np.fft.fft2\n",
    "img = plt.imread('images/dolly.png')\n",
    "\n",
    "amplitude = img\n",
    "phase = img\n",
    "restore = img\n",
    "my_amplitude = img\n",
    "my_phase = img\n",
    "my_restore = img\n",
    "\n",
    "# YOUR CODE HERE\n",
    "raise NotImplementedError()\n",
    "\n",
    "plt.figure(figsize=(12, 8))\n",
    "\n",
    "plt.gray()\n",
    "plt.subplot(3, 3, 1); plt.axis('off'); plt.imshow(img); plt.title('Original')\n",
    "plt.subplot(3, 3, 2); plt.axis('off'); plt.imshow(restore); plt.title('Reconstruction')\n",
    "plt.subplot(3, 3, 3); plt.axis('off'); plt.imshow(my_restore); plt.title('Reconstruction [my]')\n",
    "\n",
    "plt.subplot(3, 3, 4); plt.axis('off'); plt.imshow(amplitude); plt.title('Amplitude')\n",
    "plt.subplot(3, 3, 5); plt.axis('off'); plt.imshow(np.log(amplitude)); plt.title('log(Amplitude)')\n",
    "plt.subplot(3, 3, 6); plt.axis('off'); plt.imshow(phase); plt.title('Phase')\n",
    "\n",
    "plt.subplot(3, 3, 7); plt.axis('off'); plt.imshow(my_amplitude); plt.title('Amplitude [my]')\n",
    "plt.subplot(3, 3, 8); plt.axis('off'); plt.imshow(np.log(my_amplitude)); plt.title('log(Amplitude) [my]')\n",
    "plt.subplot(3, 3, 9); plt.axis('off'); plt.imshow(my_phase); plt.title('Phase [my]')\n",
    "\n",
    "plt.show()"
   ]
  },
  {
   "cell_type": "markdown",
   "id": "bc09c863",
   "metadata": {
    "deletable": false,
    "editable": false,
    "nbgrader": {
     "cell_type": "markdown",
     "checksum": "570c65959bb5824591131f8649e1cb66",
     "grade": false,
     "grade_id": "ft-conv",
     "locked": true,
     "schema_version": 3,
     "solution": false
    }
   },
   "source": [
    "## Assignment 3: Convolution theorem (7 points)"
   ]
  },
  {
   "cell_type": "markdown",
   "id": "69c0a9ba",
   "metadata": {
    "deletable": false,
    "editable": false,
    "nbgrader": {
     "cell_type": "markdown",
     "checksum": "7953ee98871e3a5e6ab77b8616ec68bb",
     "grade": false,
     "grade_id": "ft-conv-q1",
     "locked": true,
     "schema_version": 3,
     "solution": false
    }
   },
   "source": [
    "**a)** What does the convolution theorem state and what are its practical consequences?"
   ]
  },
  {
   "cell_type": "markdown",
   "id": "c4083cb9",
   "metadata": {
    "deletable": false,
    "nbgrader": {
     "cell_type": "markdown",
     "checksum": "399c9337dde4ed3f6a83290ebc46873e",
     "grade": true,
     "grade_id": "ft-conv-a1",
     "locked": false,
     "points": 1,
     "schema_version": 3,
     "solution": true
    },
    "solution": true
   },
   "source": [
    "YOUR ANSWER HERE"
   ]
  },
  {
   "cell_type": "markdown",
   "id": "37d2ba32",
   "metadata": {
    "deletable": false,
    "editable": false,
    "nbgrader": {
     "cell_type": "markdown",
     "checksum": "303625636603e2cb9bb7568cf9d14f6d",
     "grade": false,
     "grade_id": "ft-conv-q2",
     "locked": true,
     "schema_version": 3,
     "solution": false
    }
   },
   "source": [
    "**b)**\n",
    "When introducing convolution, we have discussed different methods to deal with boundary pixels. From the perspective of Fourier analysis, what is the natural way to deal with this problem?"
   ]
  },
  {
   "cell_type": "markdown",
   "id": "1d712e10",
   "metadata": {
    "deletable": false,
    "nbgrader": {
     "cell_type": "markdown",
     "checksum": "31af2d8a591a8ae7f383647081b82048",
     "grade": true,
     "grade_id": "ft-conv-a2",
     "locked": false,
     "points": 1,
     "schema_version": 3,
     "solution": true
    },
    "solution": true
   },
   "source": [
    "YOUR ANSWER HERE"
   ]
  },
  {
   "cell_type": "markdown",
   "id": "00a340a8",
   "metadata": {
    "deletable": false,
    "editable": false,
    "nbgrader": {
     "cell_type": "markdown",
     "checksum": "3953e120b7dd3c8cdc96e3d1f433aeb7",
     "grade": false,
     "grade_id": "ft-conv-q3",
     "locked": true,
     "schema_version": 3,
     "solution": false
    }
   },
   "source": [
    "**c)** What is the complexity for computing a convolution using the convolution theorem? Compare this with your complexity results from sheet 01, Assignment 1(c).\n"
   ]
  },
  {
   "cell_type": "markdown",
   "id": "cc4a4ea0",
   "metadata": {
    "deletable": false,
    "nbgrader": {
     "cell_type": "markdown",
     "checksum": "a10212624f0ebd25f06500028df643e2",
     "grade": true,
     "grade_id": "ft-conv-a3",
     "locked": false,
     "points": 1,
     "schema_version": 3,
     "solution": true
    },
    "solution": "shown"
   },
   "source": [
    "YOUR ANSWER HERE"
   ]
  },
  {
   "cell_type": "markdown",
   "id": "086fe910",
   "metadata": {
    "deletable": false,
    "editable": false,
    "nbgrader": {
     "cell_type": "markdown",
     "checksum": "8d6d281d87e65bb03d6bbdabca19b929",
     "grade": false,
     "grade_id": "ft-conv-q4",
     "locked": true,
     "schema_version": 3,
     "solution": false
    }
   },
   "source": [
    "**d)** Prove the convolution theorem.\n",
    "\n",
    "*Hint 1:* Look at the continuous 1d proof on [wikipedia](https://en.wikipedia.org/wiki/Convolution_theorem)\n",
    "\n",
    "*Hint 2:* Transition to discrete 2d described on CV-06 slides 12-13 \n",
    "\n",
    "\\begin{align*}\n",
    "\\mathcal{F}[f\\ast h](u,v)\n",
    "&= \\sum_{x=0}^{M-1}\\sum_{y=0}^{N-1}[f\\ast h](x,y)\\cdot e^{-\\operatorname{i}2\\pi(u\\frac{x}{M}+v\\frac{y}{N})} \n",
    "\\\\\n",
    "&=\\ldots\\\\\n",
    "&= \\mathcal{F}[f](u,v)\\cdot \\mathcal{F}[h](u,v)\n",
    "\\end{align*}"
   ]
  },
  {
   "cell_type": "markdown",
   "id": "20fe6057",
   "metadata": {
    "deletable": false,
    "nbgrader": {
     "cell_type": "markdown",
     "checksum": "80a0c6468a6b4ac2b34a7f3f914e019d",
     "grade": true,
     "grade_id": "ft-conv-a4",
     "locked": false,
     "points": 4,
     "schema_version": 3,
     "solution": true
    },
    "solution": "shown"
   },
   "source": [
    "YOUR ANSWER HERE"
   ]
  }
 ],
 "metadata": {
  "kernelspec": {
   "display_name": "Python 3 (ipykernel)",
   "language": "python",
   "name": "python3"
  }
 },
 "nbformat": 4,
 "nbformat_minor": 5
}
