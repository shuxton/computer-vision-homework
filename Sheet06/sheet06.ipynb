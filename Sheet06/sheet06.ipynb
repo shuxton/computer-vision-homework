{
 "cells": [
  {
   "cell_type": "markdown",
   "id": "18212cdf",
   "metadata": {
    "deletable": false,
    "editable": false,
    "nbgrader": {
     "cell_type": "markdown",
     "checksum": "06a5b796a3583e5de63b40848e61feab",
     "grade": false,
     "grade_id": "h00",
     "locked": true,
     "schema_version": 3,
     "solution": false
    }
   },
   "source": [
    "Osnabrück University - Computer Vision (Winter Term 2024/25) - Dr. Ulf Krumnack, Lukas Niehaus, Robin Rawiel"
   ]
  },
  {
   "cell_type": "markdown",
   "id": "c7e1c780",
   "metadata": {
    "deletable": false,
    "editable": false,
    "nbgrader": {
     "cell_type": "markdown",
     "checksum": "5332aa346e3125f9b2c0224c24f6a3d1",
     "grade": false,
     "grade_id": "cell-2996ef56280eb17f",
     "locked": true,
     "schema_version": 3,
     "solution": false
    }
   },
   "source": [
    "# Exercise Sheet 06: Wavelet Transform"
   ]
  },
  {
   "cell_type": "markdown",
   "id": "3731d8d7",
   "metadata": {
    "deletable": false,
    "editable": false,
    "nbgrader": {
     "cell_type": "markdown",
     "checksum": "20b6575f0c5ee2109c2aac5c79a8a3d1",
     "grade": false,
     "grade_id": "cell-4afea340e25d6043",
     "locked": true,
     "schema_version": 3,
     "solution": false
    }
   },
   "source": [
    "## Introduction\n",
    "\n",
    "This week's sheet should be solved and handed in before end of **Monday, January 6, 2025**. If you need help (and Google and other resources were not enough), feel free to use the Stud.IP forum. Please upload your results to your group's Stud.IP folder."
   ]
  },
  {
   "cell_type": "markdown",
   "id": "da9e25e5",
   "metadata": {
    "deletable": false,
    "editable": false,
    "nbgrader": {
     "cell_type": "markdown",
     "checksum": "ffc25125d3f9c135ecf3bb47596a1cac",
     "grade": false,
     "grade_id": "cell-0ceaa7378e4a713d",
     "locked": true,
     "schema_version": 3,
     "solution": false
    }
   },
   "source": [
    "## Assignment 0: Math recap (Eigenvectors and Eigenvalues) [0 Points]\n",
    "\n",
    "This exercise is intended to revise the notions of eigenvectors and eigenvalues, which will pop up in class soon.  Check if you are comfortable with them. You don't need a deep understanding, but you should have got the basic ideas.  If you have problems to answer these questions offhand, this is a good time to look terms up (again). You are always welcome to discuss questions with the tutors or in the practice session. Also, if you have a (math) topic you would like to recap, please let us know."
   ]
  },
  {
   "cell_type": "markdown",
   "id": "fced8409",
   "metadata": {
    "deletable": false,
    "editable": false,
    "nbgrader": {
     "cell_type": "markdown",
     "checksum": "73f5890da9ce4d25e9e3792583ebb627",
     "grade": false,
     "grade_id": "cell-106b918b6f9c6fea",
     "locked": true,
     "schema_version": 3,
     "solution": false
    }
   },
   "source": [
    "**a)** What is an eigenvector of a matrix/a linear mapping? What are eigenvalues?"
   ]
  },
  {
   "cell_type": "markdown",
   "id": "5ac226ff",
   "metadata": {
    "deletable": false,
    "nbgrader": {
     "cell_type": "markdown",
     "checksum": "36475d2d0f85070bc2f5c7617633e228",
     "grade": true,
     "grade_id": "cell-f80e2cfbc5dae96a",
     "locked": false,
     "points": 0,
     "schema_version": 3,
     "solution": true
    },
    "solution": true
   },
   "source": [
    "YOUR ANSWER HERE"
   ]
  },
  {
   "cell_type": "markdown",
   "id": "7160cdee",
   "metadata": {
    "deletable": false,
    "editable": false,
    "nbgrader": {
     "cell_type": "markdown",
     "checksum": "a3e11c3b58acdf8bea3841ff97bc910b",
     "grade": false,
     "grade_id": "cell-10c6f038150609e1",
     "locked": true,
     "schema_version": 3,
     "solution": false
    }
   },
   "source": [
    "**b)** What is the characteristic polynomial of a matrix? How is it related to eigenvalues? What are algebraic and geometric multiplicity of an eigenvalue?"
   ]
  },
  {
   "cell_type": "markdown",
   "id": "e42e1623",
   "metadata": {
    "deletable": false,
    "nbgrader": {
     "cell_type": "markdown",
     "checksum": "4ff3d7e15d56e4dbc54eaef465500577",
     "grade": true,
     "grade_id": "cell-c45db6ae30a5507a",
     "locked": false,
     "points": 0,
     "schema_version": 3,
     "solution": true
    },
    "solution": true
   },
   "source": [
    "YOUR ANSWER HERE"
   ]
  },
  {
   "cell_type": "markdown",
   "id": "78cf42e2",
   "metadata": {
    "deletable": false,
    "editable": false,
    "nbgrader": {
     "cell_type": "markdown",
     "checksum": "68f4221888e27427dc63c2e414edcf35",
     "grade": false,
     "grade_id": "cell-7822385798587c45",
     "locked": true,
     "schema_version": 3,
     "solution": false
    }
   },
   "source": [
    "**c)** What is the spectrum of a matrix? What does the spectral theorem state?"
   ]
  },
  {
   "cell_type": "markdown",
   "id": "ae4fdc30",
   "metadata": {
    "deletable": false,
    "nbgrader": {
     "cell_type": "markdown",
     "checksum": "94696dd22018d912b2a84a73c0a13030",
     "grade": true,
     "grade_id": "cell-1a5e17baf68e02e1",
     "locked": false,
     "points": 0,
     "schema_version": 3,
     "solution": true
    },
    "solution": true
   },
   "source": [
    "YOUR ANSWER HERE"
   ]
  },
  {
   "cell_type": "markdown",
   "id": "0bef74c8",
   "metadata": {
    "deletable": false,
    "editable": false,
    "nbgrader": {
     "cell_type": "markdown",
     "checksum": "2009461a626ca1c13fce0cf5ca586c80",
     "grade": false,
     "grade_id": "math-eigen-q4",
     "locked": true,
     "schema_version": 3,
     "solution": false
    }
   },
   "source": [
    "**d)** [bonus task]: Numpy/Scipy provide functions to compute eigenvalues. Lookup these functions and apply them to an example."
   ]
  },
  {
   "cell_type": "code",
   "execution_count": null,
   "id": "35fa6b45",
   "metadata": {
    "deletable": false,
    "nbgrader": {
     "cell_type": "code",
     "checksum": "186a9f5cba3b5d19e0069238b5d8ba4e",
     "grade": true,
     "grade_id": "cell-2400c166c6ecc90d",
     "locked": false,
     "points": 0,
     "schema_version": 3,
     "solution": true
    }
   },
   "outputs": [],
   "source": [
    "# YOUR CODE HERE\n",
    "raise NotImplementedError()"
   ]
  },
  {
   "cell_type": "markdown",
   "id": "fe65ce44",
   "metadata": {
    "deletable": false,
    "editable": false,
    "nbgrader": {
     "cell_type": "markdown",
     "checksum": "2fe5fe44bfdcc80c99db25ebce950633",
     "grade": false,
     "grade_id": "cell-filter-design",
     "locked": true,
     "schema_version": 3,
     "solution": false,
     "task": false
    }
   },
   "source": [
    "## Assignment 1: Filter design and frequency space (5 points)"
   ]
  },
  {
   "cell_type": "markdown",
   "id": "6a12ca1b",
   "metadata": {
    "deletable": false,
    "editable": false,
    "nbgrader": {
     "cell_type": "markdown",
     "checksum": "e1e82212fbad6ee5dc9dcc7e9af3bde5",
     "grade": false,
     "grade_id": "cell-filter-box",
     "locked": true,
     "schema_version": 3,
     "solution": false,
     "task": false
    }
   },
   "source": [
    "**a)** Create and plot the kernels of box filter and binomial filter in frequency space. Vary the kernel size. What do you observe?"
   ]
  },
  {
   "cell_type": "code",
   "execution_count": null,
   "id": "aaec6bd8",
   "metadata": {
    "deletable": false,
    "nbgrader": {
     "cell_type": "code",
     "checksum": "6143f9674a7801324a57032695099bdb",
     "grade": true,
     "grade_id": "cell-filter-box-implementation",
     "locked": false,
     "points": 1,
     "schema_version": 3,
     "solution": true,
     "task": false
    }
   },
   "outputs": [],
   "source": [
    "%matplotlib inline\n",
    "import numpy as np\n",
    "import matplotlib.pyplot as plt\n",
    "from scipy.special import binom\n",
    "\n",
    "kernel_size = 10 # vary this\n",
    "image_size = 1000\n",
    "\n",
    "# compute the kernel\n",
    "box_kernel = np.zeros((image_size,image_size))\n",
    "binomial_kernel = np.zeros((image_size,image_size))\n",
    "\n",
    "# YOUR CODE HERE\n",
    "raise NotImplementedError()\n",
    "\n",
    "box_frequencies = np.fft.fftshift(np.fft.fft2(box_kernel))\n",
    "binomial_frequencies = np.fft.fftshift(np.fft.fft2(binomial_kernel))\n",
    "\n",
    "# plot kernel in frequency space\n",
    "plt.figure(figsize=(12,6))\n",
    "plt.gray()\n",
    "plt.subplot(1,2,1)\n",
    "plt.title(f\"Box filter (size={kernel_size})\")\n",
    "plt.imshow(np.abs(box_frequencies))\n",
    "plt.plot(np.arange(image_size), np.abs(box_frequencies)[image_size//2]*image_size)\n",
    "plt.ylim(0, image_size-1)\n",
    "plt.subplot(1,2,2)\n",
    "plt.title(f\"Binomial filter (size={kernel_size})\")\n",
    "plt.imshow(np.abs(binomial_frequencies))\n",
    "plt.plot(np.arange(image_size), np.abs(binomial_frequencies)[image_size//2]*image_size)\n",
    "plt.ylim(0, image_size-1)\n",
    "plt.show()"
   ]
  },
  {
   "cell_type": "markdown",
   "id": "d14971bc",
   "metadata": {
    "deletable": false,
    "nbgrader": {
     "cell_type": "markdown",
     "checksum": "8669d5c0e743aa8d0e116a40fa5b7bec",
     "grade": true,
     "grade_id": "cell-filter-box-answer",
     "locked": false,
     "points": 1,
     "schema_version": 3,
     "solution": true,
     "task": false
    }
   },
   "source": [
    "YOUR ANSWER HERE"
   ]
  },
  {
   "cell_type": "markdown",
   "id": "836964c5",
   "metadata": {
    "deletable": false,
    "editable": false,
    "nbgrader": {
     "cell_type": "markdown",
     "checksum": "3a13eed2ed23ee17465ea40509cf01d2",
     "grade": false,
     "grade_id": "cell-filter-low-pass",
     "locked": true,
     "schema_version": 3,
     "solution": false,
     "task": false
    }
   },
   "source": [
    "**b)** Implement a low pass filter and apply it to the given image with different cut off frequencies $F_{\\max}$. What do you observe? Explain that observation and discuss how to improve the result.\n",
    "\n",
    "Hint: The low pass filter is shown in CV-06 slides 45. "
   ]
  },
  {
   "cell_type": "code",
   "execution_count": null,
   "id": "cb119187",
   "metadata": {
    "deletable": false,
    "nbgrader": {
     "cell_type": "code",
     "checksum": "54827eb94838115fb7e288540c28d578",
     "grade": true,
     "grade_id": "cell-filter-low-implementation",
     "locked": false,
     "points": 1,
     "schema_version": 3,
     "solution": true,
     "task": false
    }
   },
   "outputs": [],
   "source": [
    "import numpy as np\n",
    "import matplotlib.pyplot as plt\n",
    "import imageio.v2 as imageio\n",
    "\n",
    "f_max = 30\n",
    "image = imageio.imread('imageio:camera.png')\n",
    "\n",
    "def low_pass_filter(image, f_max):\n",
    "    result = image\n",
    "    # YOUR CODE HERE\n",
    "    raise NotImplementedError()\n",
    "    return result\n",
    "\n",
    "filtered_image = low_pass_filter(image, f_max=f_max)\n",
    "\n",
    "# plot kernel in frequency space\n",
    "plt.figure(figsize=(18,5))\n",
    "plt.gray()\n",
    "plt.subplot(1,3,1); plt.title(f\"Original image\")\n",
    "plt.imshow(image) \n",
    "plt.subplot(1,3,2); plt.title(f\"Lowpass-filterered image ($F_\\max$={f_max})\")\n",
    "plt.imshow(filtered_image)\n",
    "plt.subplot(1,3,3); plt.title(f\"Difference\")\n",
    "plt.imshow(filtered_image-image)\n",
    "plt.show()"
   ]
  },
  {
   "cell_type": "markdown",
   "id": "b9d6a027",
   "metadata": {
    "deletable": false,
    "nbgrader": {
     "cell_type": "markdown",
     "checksum": "9908e8ace38a64f8395e9010ee0550ff",
     "grade": true,
     "grade_id": "cell-filter-box-pass-answer",
     "locked": false,
     "points": 1,
     "schema_version": 3,
     "solution": true,
     "task": false
    }
   },
   "source": [
    "YOUR ANSWER HERE"
   ]
  },
  {
   "cell_type": "markdown",
   "id": "6058a0fd",
   "metadata": {
    "deletable": false,
    "editable": false,
    "nbgrader": {
     "cell_type": "markdown",
     "checksum": "44ec334f8d4ad75d9990bebdab82d853",
     "grade": false,
     "grade_id": "cell-filter-box4",
     "locked": true,
     "schema_version": 3,
     "solution": false,
     "task": false
    }
   },
   "source": [
    "**c)** What is a good kernel size for a Gaussian filter? Justify your answer."
   ]
  },
  {
   "cell_type": "markdown",
   "id": "62f4126a",
   "metadata": {
    "deletable": false,
    "nbgrader": {
     "cell_type": "markdown",
     "checksum": "31d901bf3c3b57fc8e22ee6e3f9cb649",
     "grade": true,
     "grade_id": "cell-filter-box4-answer",
     "locked": false,
     "points": 1,
     "schema_version": 3,
     "solution": true,
     "task": false
    }
   },
   "source": [
    "YOUR ANSWER HERE"
   ]
  },
  {
   "cell_type": "markdown",
   "id": "e33b7016",
   "metadata": {
    "deletable": false,
    "editable": false,
    "nbgrader": {
     "cell_type": "markdown",
     "checksum": "55922708c8af74df16d5bd84de05d6b0",
     "grade": false,
     "grade_id": "cell-09e44c5647dd559f",
     "locked": true,
     "schema_version": 3,
     "solution": false,
     "task": false
    }
   },
   "source": [
    "## Assignment 2: Discrete Cosine Transform (5 points)"
   ]
  },
  {
   "cell_type": "markdown",
   "id": "61dad9e6",
   "metadata": {
    "deletable": false,
    "editable": false,
    "nbgrader": {
     "cell_type": "markdown",
     "checksum": "62dd571565d84fe1c702e0066776d004",
     "grade": false,
     "grade_id": "cell-8cbffe9ddf16e466",
     "locked": true,
     "schema_version": 3,
     "solution": false,
     "task": false
    }
   },
   "source": [
    "**a)** Read up about the DCT and IDCT functions and check out the scipy implementation."
   ]
  },
  {
   "cell_type": "code",
   "execution_count": null,
   "id": "1405406c",
   "metadata": {
    "deletable": false,
    "editable": false,
    "nbgrader": {
     "cell_type": "code",
     "checksum": "4336a7024b99aabdd80da2b26726f91d",
     "grade": false,
     "grade_id": "cell-5a2fd7d254fccdf3",
     "locked": true,
     "schema_version": 3,
     "solution": false,
     "task": false
    }
   },
   "outputs": [],
   "source": [
    "import numpy as np\n",
    "import imageio.v3 as iio\n",
    "import matplotlib.pylab as plt\n",
    "from scipy.fftpack import dct, idct"
   ]
  },
  {
   "cell_type": "code",
   "execution_count": null,
   "id": "35eb248a",
   "metadata": {
    "deletable": false,
    "editable": false,
    "nbgrader": {
     "cell_type": "code",
     "checksum": "02463c618832ddd85598a16fb836f6aa",
     "grade": false,
     "grade_id": "cell-81252de74844dc42",
     "locked": true,
     "schema_version": 3,
     "solution": false,
     "task": false
    }
   },
   "outputs": [],
   "source": [
    "def dct_2d_sp(array, type_=2):\n",
    "    return dct(dct(array, axis=0, type=type_), axis=1, type=type_)\n",
    "\n",
    "def idct_2d_sp(array, type_=2):\n",
    "    return idct(idct(array, axis=0, type=type_), axis=1, type=type_)\n",
    "\n",
    "\n",
    "img = iio.imread(\"imageio:camera.png\")\n",
    "img_transformed = dct_2d_sp(img)\n",
    "img_orig = idct_2d_sp(img_transformed)\n",
    "\n",
    "plt.subplot(131); plt.imshow(img); plt.axis('off'); plt.title('Original Image')\n",
    "plt.subplot(132); plt.imshow(img_transformed); plt.axis('off'); plt.title('Transformed Image')\n",
    "plt.subplot(133); plt.imshow(img_orig); plt.axis('off'); plt.title('Restored Image')"
   ]
  },
  {
   "cell_type": "markdown",
   "id": "78db1bbd",
   "metadata": {
    "deletable": false,
    "editable": false,
    "nbgrader": {
     "cell_type": "markdown",
     "checksum": "350d2985691dd25bfe4f3d3fe0ba7c5e",
     "grade": false,
     "grade_id": "cell-4d657d27357ed1e4",
     "locked": true,
     "schema_version": 3,
     "solution": false,
     "task": false
    }
   },
   "source": [
    "**b)** Implement the DCT-II function given by the formula: $C_k = 2 \\sum_{n=0}^{N-1} f_n \\cos\\left(\\frac{\\pi k(2n+1)}{2N} \\right)$"
   ]
  },
  {
   "cell_type": "code",
   "execution_count": null,
   "id": "b19f9e74",
   "metadata": {
    "deletable": false,
    "nbgrader": {
     "cell_type": "code",
     "checksum": "b4765f148847e5c48b61c3f5aaa30633",
     "grade": true,
     "grade_id": "cell-306489b7c2b75ad9",
     "locked": false,
     "points": 2,
     "schema_version": 3,
     "solution": true,
     "task": false
    }
   },
   "outputs": [],
   "source": [
    "def my_dct2_1d(f, axis=0):\n",
    "    C = np.zeros_like(f, dtype=np.float64)\n",
    "    # YOUR CODE HERE\n",
    "    raise NotImplementedError()\n",
    "    return C\n",
    "\n",
    "\n",
    "def my_dct2_2d(f):\n",
    "    return my_dct2_1d(my_dct2_1d(f, axis=0), axis=1)\n",
    "\n",
    "\n",
    "img = iio.imread(\"imageio:camera.png\")\n",
    "img_transformed = my_dct2_2d(img)\n",
    "\n",
    "plt.subplot(121); plt.imshow(img); plt.axis('off'); plt.title('Original Image')\n",
    "plt.subplot(122); plt.imshow(img_transformed); plt.axis('off'); plt.title('Transformed Image')\n",
    "\n",
    "print((img_transformed.round() == dct_2d_sp(img, type_=2).round()).all())"
   ]
  },
  {
   "cell_type": "markdown",
   "id": "0e11a7cf",
   "metadata": {
    "deletable": false,
    "editable": false,
    "nbgrader": {
     "cell_type": "markdown",
     "checksum": "ec53a3a152ac887ecf9a8b4564c902c1",
     "grade": false,
     "grade_id": "cell-6abb74e67579ad6f",
     "locked": true,
     "schema_version": 3,
     "solution": false,
     "task": false
    }
   },
   "source": [
    "**c)** Implement the DCT-III function given by the formula: $C_k = f_0 + 2 \\sum_{n=1}^{N-1} f_n \\cos\\left(\\frac{\\pi(2k+1)n}{2N}\\right)$"
   ]
  },
  {
   "cell_type": "code",
   "execution_count": null,
   "id": "2f3241a4",
   "metadata": {
    "deletable": false,
    "nbgrader": {
     "cell_type": "code",
     "checksum": "7480e370bfe1ea6ec0bffde59567d62f",
     "grade": true,
     "grade_id": "cell-5d1774bfd8ac710f",
     "locked": false,
     "points": 2,
     "schema_version": 3,
     "solution": true,
     "task": false
    }
   },
   "outputs": [],
   "source": [
    "def my_dct3_1d(f, axis=0):\n",
    "    C = np.zeros_like(f, dtype=np.float64)\n",
    "    # YOUR CODE HERE\n",
    "    raise NotImplementedError()\n",
    "    return C\n",
    "\n",
    "\n",
    "def my_dct3_2d(f):\n",
    "    return my_dct3_1d(my_dct3_1d(f, axis=0), axis=1)\n",
    "\n",
    "\n",
    "img = iio.imread(\"imageio:camera.png\")\n",
    "img_transformed = my_dct3_2d(img)\n",
    "\n",
    "plt.subplot(121); plt.imshow(img); plt.axis('off'); plt.title('Original Image')\n",
    "plt.subplot(122); plt.imshow(img_transformed); plt.axis('off'); plt.title('Transformed Image')\n",
    "\n",
    "print((img_transformed.round() == dct_2d_sp(img, type_=3).round()).all())"
   ]
  },
  {
   "cell_type": "markdown",
   "id": "02cd34b9",
   "metadata": {
    "deletable": false,
    "editable": false,
    "nbgrader": {
     "cell_type": "markdown",
     "checksum": "1836e9010534b2ebd220d701c36695d3",
     "grade": false,
     "grade_id": "cell-ef3d44a4aac273cd",
     "locked": true,
     "schema_version": 3,
     "solution": false,
     "task": false
    }
   },
   "source": [
    "**d)** What relationship between the DCT-II, DCT-III, IDCT-II and IDCT-III can be observed? Demonstrate your findings. (If you did not solve exercises b and c, you may use provided `dct_2d_sp` function)."
   ]
  },
  {
   "cell_type": "code",
   "execution_count": null,
   "id": "42417316",
   "metadata": {
    "deletable": false,
    "nbgrader": {
     "cell_type": "code",
     "checksum": "4b3140bc266a52a3b29a9b3aae6e34cf",
     "grade": true,
     "grade_id": "cell-252fb0e858164edf",
     "locked": false,
     "points": 1,
     "schema_version": 3,
     "solution": true,
     "task": false
    }
   },
   "outputs": [],
   "source": [
    "normalize = lambda x: x.astype(np.float64)/np.max(x)\n",
    "\n",
    "img = iio.imread(\"imageio:camera.png\")\n",
    "img = normalize(img)\n",
    "\n",
    "# YOUR CODE HERE\n",
    "raise NotImplementedError()\n",
    "img_orig = normalize(img_orig)\n",
    "\n",
    "plt.subplot(131); plt.imshow(img); plt.axis('off'); plt.title('Original Image')\n",
    "plt.subplot(132); plt.imshow(img_transformed); plt.axis('off'); plt.title('Transformed Image')\n",
    "plt.subplot(133); plt.imshow(img_orig); plt.axis('off'); plt.title('Restored Image')\n",
    "\n",
    "print((img.round() == img_orig.round()).all())"
   ]
  },
  {
   "cell_type": "markdown",
   "id": "00b0a3fb",
   "metadata": {
    "deletable": false,
    "editable": false,
    "nbgrader": {
     "cell_type": "markdown",
     "checksum": "dadeb7a9c048f220c9afceecb727c8bf",
     "grade": false,
     "grade_id": "cell-195dbcd0f5eeee58",
     "locked": true,
     "schema_version": 3,
     "solution": false,
     "task": false
    }
   },
   "source": [
    "## Assignment 3: Wavelet Transform (5 points)"
   ]
  },
  {
   "cell_type": "markdown",
   "id": "9b1b3e7e",
   "metadata": {
    "deletable": false,
    "editable": false,
    "nbgrader": {
     "cell_type": "markdown",
     "checksum": "d04d049840c6c2464d83a6d7967c5a9c",
     "grade": false,
     "grade_id": "cell-8f1dce4ce5ed00ae",
     "locked": true,
     "schema_version": 3,
     "solution": false,
     "task": false
    }
   },
   "source": [
    "**a)** Write a function that transforms a mother wavelet into a wavelet function."
   ]
  },
  {
   "cell_type": "code",
   "execution_count": null,
   "id": "91ce2f9b",
   "metadata": {
    "deletable": false,
    "nbgrader": {
     "cell_type": "code",
     "checksum": "cb816270de3ad4dad5c58cccd2550df6",
     "grade": true,
     "grade_id": "cell-92bed7dce6ce3751",
     "locked": false,
     "points": 1,
     "schema_version": 3,
     "solution": true,
     "task": false
    }
   },
   "outputs": [],
   "source": [
    "import numpy as np\n",
    "import matplotlib.pylab as plt\n",
    "from mpl_toolkits.mplot3d import Axes3D\n",
    "\n",
    "def wavelet(mother_wavelet, s=0, d=0):\n",
    "    func = lambda x: mother_wavelet.__call__(x)  # edit this call to be dependent on s and d\n",
    "    # YOUR CODE HERE\n",
    "    raise NotImplementedError()\n",
    "    return func\n"
   ]
  },
  {
   "cell_type": "markdown",
   "id": "20e36f30",
   "metadata": {
    "deletable": false,
    "editable": false,
    "nbgrader": {
     "cell_type": "markdown",
     "checksum": "dbed545dd35b4c2b015699eb2c2fc072",
     "grade": false,
     "grade_id": "cell-a615cb4a3c10e835",
     "locked": true,
     "schema_version": 3,
     "solution": false,
     "task": false
    }
   },
   "source": [
    "**b)** Write a function for the Gabor mother wavelet."
   ]
  },
  {
   "cell_type": "code",
   "execution_count": null,
   "id": "0815c537",
   "metadata": {
    "deletable": false,
    "nbgrader": {
     "cell_type": "code",
     "checksum": "29f15f33e24b7dd66c37e0d3273b67ee",
     "grade": true,
     "grade_id": "cell-37f4a75c1babf395",
     "locked": false,
     "points": 1,
     "schema_version": 3,
     "solution": true,
     "task": false
    }
   },
   "outputs": [],
   "source": [
    "def gabor_mother_wavelet(x, sigma=1, k=1):\n",
    "    ret = 0\n",
    "    # YOUR CODE HERE\n",
    "    raise NotImplementedError()\n",
    "    return ret"
   ]
  },
  {
   "cell_type": "markdown",
   "id": "e53c3df9",
   "metadata": {
    "deletable": false,
    "editable": false,
    "nbgrader": {
     "cell_type": "markdown",
     "checksum": "c561855348c5e1c134f1fdc103a7903e",
     "grade": false,
     "grade_id": "cell-7cbfbe970a93baf1",
     "locked": true,
     "schema_version": 3,
     "solution": false,
     "task": false
    }
   },
   "source": [
    "**c)** Plot the real and imaginary part of the gabor wavelet. Use the Interval $\\left[ -10, 10 \\right]$ and $\\sigma=3$."
   ]
  },
  {
   "cell_type": "code",
   "execution_count": null,
   "id": "d0681412",
   "metadata": {
    "deletable": false,
    "nbgrader": {
     "cell_type": "code",
     "checksum": "cdac55c5116de3b9d1d020871d4e09e9",
     "grade": true,
     "grade_id": "cell-2ca7b8b9756cd447",
     "locked": false,
     "points": 1,
     "schema_version": 3,
     "solution": true,
     "task": false
    }
   },
   "outputs": [],
   "source": [
    "# YOUR CODE HERE\n",
    "raise NotImplementedError()\n",
    "plt.legend()\n",
    "plt.title(\"Gabor Wavelet Function\")\n",
    "plt.show()"
   ]
  },
  {
   "cell_type": "markdown",
   "id": "876a2f12",
   "metadata": {
    "deletable": false,
    "editable": false,
    "nbgrader": {
     "cell_type": "markdown",
     "checksum": "7ad5254faaf8cec1706d787f78469314",
     "grade": false,
     "grade_id": "cell-cc53eb1bb70bf2ab",
     "locked": true,
     "schema_version": 3,
     "solution": false,
     "task": false
    }
   },
   "source": [
    "**d)** Plot the real and imaginary part of the gabor wavelet in 3d. Use the Interval $\\left[ -10, 10 \\right]$ and $\\sigma=3$."
   ]
  },
  {
   "cell_type": "code",
   "execution_count": null,
   "id": "2af5ca20",
   "metadata": {
    "deletable": false,
    "nbgrader": {
     "cell_type": "code",
     "checksum": "caa89b9ba4e9a41410c92915e65c937c",
     "grade": true,
     "grade_id": "cell-40016409a58f9c84",
     "locked": false,
     "points": 1,
     "schema_version": 3,
     "solution": true,
     "task": false
    }
   },
   "outputs": [],
   "source": [
    "fig = plt.figure(figsize=(12, 6))\n",
    "ax = fig.add_subplot(111, projection=\"3d\")\n",
    "# YOUR CODE HERE\n",
    "raise NotImplementedError()\n",
    "ax.set_xlabel(\"X axis\")\n",
    "ax.set_ylabel(\"$\\Re(e^{ix})$\")\n",
    "ax.set_zlabel(\"$\\Im(e^{ix})$\")\n",
    "plt.show()"
   ]
  },
  {
   "cell_type": "markdown",
   "id": "e18dc6ca",
   "metadata": {
    "deletable": false,
    "editable": false,
    "nbgrader": {
     "cell_type": "markdown",
     "checksum": "4bf6e26cacab77faf8bc428c36a92095",
     "grade": false,
     "grade_id": "cell-674427bdfcfb0fb7",
     "locked": true,
     "schema_version": 3,
     "solution": false,
     "task": false
    }
   },
   "source": [
    "**e)** Implement the Haar Basis Wavelet and the Haar Scale Wavelet."
   ]
  },
  {
   "cell_type": "code",
   "execution_count": null,
   "id": "f5707610",
   "metadata": {
    "deletable": false,
    "nbgrader": {
     "cell_type": "code",
     "checksum": "e6bd6c6762a2a1eaff3e628021b13f57",
     "grade": true,
     "grade_id": "cell-f115817f59e44782",
     "locked": false,
     "points": 1,
     "schema_version": 3,
     "solution": true,
     "task": false
    }
   },
   "outputs": [],
   "source": [
    "def haar_basis_wavelet(x):\n",
    "    ret = np.zeros(x.shape)\n",
    "    # YOUR CODE HERE\n",
    "    raise NotImplementedError()\n",
    "    return ret\n",
    "\n",
    "\n",
    "def haar_scale_wavelet(x):\n",
    "    ret = np.zeros(x.shape)\n",
    "    # YOUR CODE HERE\n",
    "    raise NotImplementedError()\n",
    "    return ret\n",
    "\n",
    "x = np.linspace(-1, 3, 100)\n",
    "plt.grid()\n",
    "plt.plot(x, haar_basis_wavelet(x), label=\"Basis Wavelet $\\psi$\")\n",
    "plt.plot(x, haar_scale_wavelet(x), label=\"Scaling Wavelet $\\phi$\")\n",
    "plt.legend()\n",
    "plt.title(\"Haar Wavelet Function\")\n",
    "plt.show()"
   ]
  },
  {
   "cell_type": "code",
   "execution_count": null,
   "id": "c45d0294",
   "metadata": {},
   "outputs": [],
   "source": []
  }
 ],
 "metadata": {
  "kernelspec": {
   "display_name": "Python 3 (ipykernel)",
   "language": "python",
   "name": "python3"
  }
 },
 "nbformat": 4,
 "nbformat_minor": 5
}
