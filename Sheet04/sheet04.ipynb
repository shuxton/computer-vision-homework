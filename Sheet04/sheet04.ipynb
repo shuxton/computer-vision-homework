{
 "cells": [
  {
   "cell_type": "markdown",
   "id": "5b1a4133",
   "metadata": {
    "deletable": false,
    "editable": false,
    "nbgrader": {
     "cell_type": "markdown",
     "checksum": "06a5b796a3583e5de63b40848e61feab",
     "grade": false,
     "grade_id": "h00",
     "locked": true,
     "schema_version": 3,
     "solution": false
    }
   },
   "source": [
    "Osnabrück University - Computer Vision (Winter Term 2024/25) - Dr. Ulf Krumnack, Lukas Niehaus, Robin Rawiel"
   ]
  },
  {
   "cell_type": "markdown",
   "id": "603b23b0",
   "metadata": {
    "deletable": false,
    "editable": false,
    "nbgrader": {
     "cell_type": "markdown",
     "checksum": "7f466bc6f11ea9584eb0a1b03f401c11",
     "grade": false,
     "grade_id": "cell-5b1c9d7364139283",
     "locked": true,
     "schema_version": 3,
     "solution": false
    }
   },
   "source": [
    "# Exercise Sheet 04: Color and segmentation"
   ]
  },
  {
   "cell_type": "markdown",
   "id": "549b20ee",
   "metadata": {
    "deletable": false,
    "editable": false,
    "nbgrader": {
     "cell_type": "markdown",
     "checksum": "d4e406672bd153fa723a5891b1d30143",
     "grade": false,
     "grade_id": "cell-7f36caad6a99f515",
     "locked": true,
     "schema_version": 3,
     "solution": false
    }
   },
   "source": [
    "## Introduction\n",
    "\n",
    "This week's sheet should be solved and handed in before the end of **Monay, December 9th, 2024**. If you need help (and Google and other resources were not enough), feel free to contact your groups' designated tutor or whomever of us you run into first. Please upload your results to your group's Stud.IP folder."
   ]
  },
  {
   "cell_type": "markdown",
   "id": "00c73be2",
   "metadata": {
    "deletable": false,
    "editable": false,
    "nbgrader": {
     "cell_type": "markdown",
     "checksum": "75591ea851a942fe9b99d0d9596b0aa2",
     "grade": false,
     "grade_id": "math-exp",
     "locked": true,
     "schema_version": 3,
     "solution": false
    }
   },
   "source": [
    "## Assignment 0: Math recap (the exponential function) [0 Points]\n",
    "\n",
    "This exercise is supposed to be basic (but maybe less familiar than the last one), does not give any points, and is voluntary. There will be a similar exercise on every sheet. It is intended to revise some basic mathematical notions that are assumed throughout this class and to allow you to check if you are comfortable with them. Usually you should have no problem to answer these questions offhand, but if you feel unsure, this is a good time to look them up (again). You are always welcome to discuss questions with the tutors or in the practice session. Also, if you have a (math) topic you would like to recap, please let us know."
   ]
  },
  {
   "cell_type": "markdown",
   "id": "db67dfc3",
   "metadata": {
    "deletable": false,
    "editable": false,
    "nbgrader": {
     "cell_type": "markdown",
     "checksum": "ebc6733562fac8716405aa3211f53e3e",
     "grade": false,
     "grade_id": "math-exp-q1",
     "locked": true,
     "schema_version": 3,
     "solution": false
    }
   },
   "source": [
    "**a)** What is an *exponential function*? How can it be characterized? What is special about $e^x$?"
   ]
  },
  {
   "cell_type": "markdown",
   "id": "7abfe679",
   "metadata": {
    "deletable": false,
    "nbgrader": {
     "cell_type": "markdown",
     "checksum": "ebfd1cecaa687ec46793840784814e92",
     "grade": true,
     "grade_id": "math-exp-a1",
     "locked": false,
     "points": 0,
     "schema_version": 3,
     "solution": true
    },
    "solution": true
   },
   "source": [
    "YOUR ANSWER HERE"
   ]
  },
  {
   "cell_type": "markdown",
   "id": "c91dc3ce",
   "metadata": {
    "deletable": false,
    "editable": false,
    "nbgrader": {
     "cell_type": "markdown",
     "checksum": "9894dec6a8a57ffccf81cd11e2e269e0",
     "grade": false,
     "grade_id": "math-exp-q2",
     "locked": true,
     "schema_version": 3,
     "solution": false
    }
   },
   "source": [
    "**b)** How is the exponential function defined for complex arguments? In what way(s) does this generalize the real case?"
   ]
  },
  {
   "cell_type": "markdown",
   "id": "76a271d2",
   "metadata": {
    "deletable": false,
    "nbgrader": {
     "cell_type": "markdown",
     "checksum": "18e3b66094a4176e70210c80e349b42a",
     "grade": true,
     "grade_id": "math-exp-a2",
     "locked": false,
     "points": 0,
     "schema_version": 3,
     "solution": true
    },
    "solution": true
   },
   "source": [
    "YOUR ANSWER HERE"
   ]
  },
  {
   "cell_type": "markdown",
   "id": "8a934978",
   "metadata": {
    "deletable": false,
    "editable": false,
    "nbgrader": {
     "cell_type": "markdown",
     "checksum": "0fe2c7f6e8eafafff982bb18be856094",
     "grade": false,
     "grade_id": "math-exp-q3",
     "locked": true,
     "schema_version": 3,
     "solution": false
    }
   },
   "source": [
    "**c)** The complex exponential function allows to define a mapping $\\mathbb{R}\\to\\mathbb{C}$ by $x\\mapsto e^{ix}$? How does the graph of this mapping look like? Where are the points $e^{2\\pi i\\frac mn}$ for $m=0,...,n\\in\\mathbb{N}$ located on this graph?"
   ]
  },
  {
   "cell_type": "markdown",
   "id": "440b5d92",
   "metadata": {
    "deletable": false,
    "nbgrader": {
     "cell_type": "markdown",
     "checksum": "975473d35b170f509697900ad803eee7",
     "grade": true,
     "grade_id": "math-exp-a3",
     "locked": false,
     "points": 0,
     "schema_version": 3,
     "solution": true
    },
    "solution": true
   },
   "source": [
    "YOUR ANSWER HERE"
   ]
  },
  {
   "cell_type": "code",
   "execution_count": null,
   "id": "29438de4",
   "metadata": {
    "deletable": false,
    "nbgrader": {
     "cell_type": "code",
     "checksum": "eaa4ba8742b971a01bfb54690f8c9218",
     "grade": true,
     "grade_id": "math-exp-a3b",
     "locked": false,
     "points": 0,
     "schema_version": 3,
     "solution": true
    }
   },
   "outputs": [],
   "source": [
    "# YOUR CODE HERE\n",
    "raise NotImplementedError()"
   ]
  },
  {
   "cell_type": "markdown",
   "id": "f2f17788",
   "metadata": {
    "deletable": false,
    "editable": false,
    "nbgrader": {
     "cell_type": "markdown",
     "checksum": "32d307011f83163503ccf929927633e3",
     "grade": false,
     "grade_id": "morph-skeleton",
     "locked": true,
     "schema_version": 3,
     "solution": false
    }
   },
   "source": [
    "## Assignment 1: Implementation: Skeletonization (5 points)"
   ]
  },
  {
   "cell_type": "markdown",
   "id": "3602f95e",
   "metadata": {
    "deletable": false,
    "editable": false,
    "nbgrader": {
     "cell_type": "markdown",
     "checksum": "165c4def1d7ecc02ed4a07e3f514bc18",
     "grade": false,
     "grade_id": "morph-skeleton-q1",
     "locked": true,
     "schema_version": 3,
     "solution": false
    }
   },
   "source": [
    "### a) Skeletonization with hit-or-miss\n",
    "\n",
    "Explain in your own words, how the hit-or-miss operator can be used for skeletonization (cf CV-05 slide 39).  "
   ]
  },
  {
   "cell_type": "markdown",
   "id": "a97f6b3b",
   "metadata": {
    "deletable": false,
    "nbgrader": {
     "cell_type": "markdown",
     "checksum": "d28e31216b9e00c07579929c1627848f",
     "grade": true,
     "grade_id": "morph-skeleton-a1",
     "locked": false,
     "points": 1,
     "schema_version": 3,
     "solution": true
    },
    "solution": true
   },
   "source": [
    "YOUR ANSWER HERE"
   ]
  },
  {
   "cell_type": "markdown",
   "id": "6de835e4",
   "metadata": {
    "deletable": false,
    "editable": false,
    "nbgrader": {
     "cell_type": "markdown",
     "checksum": "d5e7710862bc2cf0b76d42a07ab42998",
     "grade": false,
     "grade_id": "morph-skeleton-q2",
     "locked": true,
     "schema_version": 3,
     "solution": false
    }
   },
   "source": [
    "### b) Implementation of skeletonization\n",
    "\n",
    "Now use this method to implement your own skeletonization function. It is ok to use\n",
    "`scipy.ndimage.morphology.binary_hit_or_miss` here (but of course *not* `skimage.morphology.skeletonize` or similar functions). Compare your result with (CV-05 slide 40). Note that computing the skeleton using this method may take some time ..."
   ]
  },
  {
   "cell_type": "code",
   "execution_count": null,
   "id": "94e433b2",
   "metadata": {
    "deletable": false,
    "nbgrader": {
     "cell_type": "code",
     "checksum": "e18aded36fc91feb385ac037f1ef1d3c",
     "grade": true,
     "grade_id": "morph-skeleton-a2",
     "locked": false,
     "points": 4,
     "schema_version": 3,
     "solution": true
    }
   },
   "outputs": [],
   "source": [
    "%matplotlib ipympl\n",
    "import numpy as np\n",
    "import matplotlib.pyplot as plt\n",
    "from scipy.ndimage import binary_hit_or_miss, distance_transform_cdt, binary_dilation\n",
    "from imageio.v3 import imread\n",
    "\n",
    "def my_skeletonize(img):\n",
    "    \"\"\"\n",
    "    Compute the skeloton of a binary image using hit_or_miss operator.\n",
    "    \n",
    "    Parameters\n",
    "    ----------\n",
    "    img : ndarray of bools\n",
    "        Binary image to be skeletonized.\n",
    "    \n",
    "    Returns\n",
    "    -------\n",
    "    skeleton : ndarray of bools\n",
    "        The skeleton of the input image.\n",
    "    \"\"\"\n",
    "    # YOUR CODE HERE\n",
    "    raise NotImplementedError()\n",
    "\n",
    "\n",
    "img = imread(\"images/engelstrompete.png\") > 0\n",
    "skel = my_skeletonize(img)\n",
    "result = distance_transform_cdt(img, metric='taxicab') + (50 * img)\n",
    "result[binary_dilation(skel)] = 0\n",
    "plt.figure(figsize=(10,10))\n",
    "plt.gray()\n",
    "plt.imshow(result)\n",
    "plt.show()"
   ]
  },
  {
   "cell_type": "code",
   "execution_count": null,
   "id": "b28438b6",
   "metadata": {},
   "outputs": [],
   "source": []
  },
  {
   "cell_type": "markdown",
   "id": "05832812",
   "metadata": {
    "deletable": false,
    "editable": false,
    "nbgrader": {
     "cell_type": "markdown",
     "checksum": "9b4573964d5689119a1580e182c437b1",
     "grade": false,
     "grade_id": "cell-ad502c82c65ccfd0",
     "locked": true,
     "schema_version": 3,
     "solution": false
    }
   },
   "source": [
    "## Assignment 2: Hough transform (5 points)"
   ]
  },
  {
   "cell_type": "markdown",
   "id": "3d7b9532",
   "metadata": {
    "deletable": false,
    "editable": false,
    "nbgrader": {
     "cell_type": "markdown",
     "checksum": "5c8f74cdf6770a4bde2badf5812875a9",
     "grade": false,
     "grade_id": "cell-d69bae3b8a2948c3",
     "locked": true,
     "schema_version": 3,
     "solution": false
    }
   },
   "source": [
    "**a)** Explain in your own words the idea of Hough transform in general. What is an accumulator space? In what sense can the Hough transform be seen as a model-based approach?"
   ]
  },
  {
   "cell_type": "markdown",
   "id": "5fa2fb06",
   "metadata": {
    "deletable": false,
    "nbgrader": {
     "cell_type": "markdown",
     "checksum": "619ffa938e63c4b8b9f9c1edf59b411d",
     "grade": true,
     "grade_id": "cell-33d2738315906735",
     "locked": false,
     "points": 1,
     "schema_version": 3,
     "solution": true
    },
    "solution": true
   },
   "source": [
    "YOUR ANSWER HERE"
   ]
  },
  {
   "cell_type": "markdown",
   "id": "deab9b85",
   "metadata": {
    "deletable": false,
    "editable": false,
    "nbgrader": {
     "cell_type": "markdown",
     "checksum": "27636dee965f00179367e195e90f54ab",
     "grade": false,
     "grade_id": "hough-linear-q3",
     "locked": true,
     "schema_version": 3,
     "solution": false
    }
   },
   "source": [
    "**b)** What is linear Hough transform? What does a point in the linear Hough space represent? Explain the meaning of the two coordinates."
   ]
  },
  {
   "cell_type": "markdown",
   "id": "4502a2bc",
   "metadata": {
    "deletable": false,
    "nbgrader": {
     "cell_type": "markdown",
     "checksum": "721ac28469cb07d7233adc1e78e1badb",
     "grade": true,
     "grade_id": "hough-linear-a3",
     "locked": false,
     "points": 2,
     "schema_version": 3,
     "solution": true
    },
    "solution": true
   },
   "source": [
    "YOUR ANSWER HERE"
   ]
  },
  {
   "cell_type": "markdown",
   "id": "1813d92c",
   "metadata": {
    "deletable": false,
    "editable": false,
    "nbgrader": {
     "cell_type": "markdown",
     "checksum": "65b97130c12d893390f9174e3cb4afbb",
     "grade": false,
     "grade_id": "cell-7529e0d0a6dae3cf",
     "locked": true,
     "schema_version": 3,
     "solution": false
    }
   },
   "source": [
    "**c)**  How are points, lines, polygons transformed by linear Hough transform? What about parallel lines? Try different configurations using the functions `point`, `line`, `polygon` below. Use the function `skimage.transform.hough_line` to display these examples. \n",
    "<!-- You may use the code of Assignment 2 to check different configurations interactively. -->"
   ]
  },
  {
   "cell_type": "markdown",
   "id": "1c7a62fa",
   "metadata": {
    "deletable": false,
    "nbgrader": {
     "cell_type": "markdown",
     "checksum": "f46e3fe46a9e5dd9f57a631a2eda6581",
     "grade": true,
     "grade_id": "cell-5a226552bbd8355b",
     "locked": false,
     "points": 1,
     "schema_version": 3,
     "solution": true
    },
    "solution": true
   },
   "source": [
    "YOUR ANSWER HERE"
   ]
  },
  {
   "cell_type": "code",
   "execution_count": null,
   "id": "4a14a8b8",
   "metadata": {
    "deletable": false,
    "nbgrader": {
     "cell_type": "code",
     "checksum": "e712f1af1ac6021b24894914fada90e9",
     "grade": true,
     "grade_id": "cell-4542d093b51781ef",
     "locked": false,
     "points": 1,
     "schema_version": 3,
     "solution": true
    }
   },
   "outputs": [],
   "source": [
    "from skimage.transform import hough_line, resize\n",
    "import matplotlib.pyplot as plt\n",
    "%matplotlib ipympl\n",
    "import numpy as np\n",
    "\n",
    "steps = lambda p,q : max(map(lambda x,y: abs(x-y), p, q))+1\n",
    "coords = lambda p,q,s : tuple([np.linspace(x,y,s,dtype=np.uint16) for x,y in zip(p,q)])\n",
    "\n",
    "def point(img, p):\n",
    "    \"\"\"Insert a point in the black/white image at position p\n",
    "    \n",
    "    Args:\n",
    "        img (ndarray): Input image.\n",
    "        p (tuple): Coordinate of point.\n",
    "    \n",
    "    Returns:\n",
    "    \n",
    "    \"\"\"\n",
    "    img[p] = 1\n",
    "\n",
    "def line(img, p, q):\n",
    "    \"\"\"Insert a line from p to q in the black/white image\n",
    "    \n",
    "    Args:\n",
    "        img (ndarray): Input image.\n",
    "        p (tuple): Coordinate of start position.\n",
    "        q (tuple): Coordinate of end position.\n",
    "    \n",
    "    Returns:\n",
    "    \n",
    "    \"\"\"\n",
    "    img[coords(p,q,steps(p,q))] = 1\n",
    "\n",
    "def polygon(img, vertices):\n",
    "    \"\"\"Insert a (closed) polygon given by a list of points into the black/white image\n",
    "    \n",
    "    Args:\n",
    "        img (ndarray): Input image.\n",
    "        vertices (list): List of coordinate tuples.\n",
    "    \n",
    "    Returns:\n",
    "    \n",
    "    \"\"\"\n",
    "    for p, q in zip(vertices, vertices[1:]+vertices[0:1]):\n",
    "        line(img,p,q)\n",
    "\n",
    "img = np.zeros((100,100))\n",
    "\n",
    "# YOUR CODE HERE\n",
    "raise NotImplementedError()\n",
    "\n",
    "fig, [ax1, ax2] = plt.subplots(1,2, figsize=(12,4))\n",
    "\n",
    "plt.gray()\n",
    "ax1.set_title('Image'); \n",
    "ax1.imshow(img, origin = 'lower')\n",
    "\n",
    "out, angles, d = hough_line(img)\n",
    "\n",
    "# scale output to quadratic image\n",
    "out_resized = resize(out, (out.shape[0], out.shape[0]), anti_aliasing=True, preserve_range=True)\n",
    "ax2.set_title('Hough transform (skimage)');\n",
    "ax2.set_xlabel('Angles (degrees)')\n",
    "ax2.set_ylabel('Distance (pixels)')\n",
    "ax2.imshow(np.log(1 + out_resized), origin = 'lower', cmap='gray')\n",
    "\n",
    "ax2.set_yticks(np.linspace(0, out.shape[0], 7))\n",
    "ax2.set_yticklabels((-1 * np.linspace(d[-1], d[0], 7)).astype(int))\n",
    "ax2.set_xticks(np.linspace(0, out.shape[0], 5))\n",
    "ax2.set_xticklabels(np.linspace(np.rad2deg(angles[0]), np.rad2deg(angles[-1]), 5).astype(int))\n",
    "\n",
    "\n",
    "plt.show()"
   ]
  },
  {
   "cell_type": "markdown",
   "id": "93251268",
   "metadata": {},
   "source": [
    "**d)** The following code block implements an interactive Hough transform, in which you can either draw points or lines and can see the resulting Hough transform immediately. Draw different shapes of points or lines and check the resulting Hough transform. Try to predict the outcome of the transformation!"
   ]
  },
  {
   "cell_type": "code",
   "execution_count": null,
   "id": "6b55ff9a",
   "metadata": {
    "deletable": false,
    "nbgrader": {
     "cell_type": "code",
     "checksum": "983cf99a2452862143ecbcccb3b9a0d5",
     "grade": true,
     "grade_id": "cell-intact-hough",
     "locked": false,
     "points": 1,
     "schema_version": 3,
     "solution": true,
     "task": false
    }
   },
   "outputs": [],
   "source": [
    "%matplotlib ipympl\n",
    "from skimage.transform import hough_line, resize\n",
    "import matplotlib.pyplot as plt\n",
    "import numpy as np\n",
    "\n",
    "# True if two mouse clicks should draw a line, false if single clicks draw points\n",
    "lines = True\n",
    "\n",
    "steps = lambda p,q : max(map(lambda x,y: abs(x-y), p, q))+1\n",
    "coords = lambda p,q,s : tuple([np.linspace(x,y,s,dtype=np.uint16) for x,y in zip(p,q)])\n",
    "img = np.zeros((200,200))\n",
    "\n",
    "\n",
    "def line(img, p, q):\n",
    "    \"\"\"Insert a line from p to q in the black/white image\n",
    "    \n",
    "    Args:\n",
    "        img (ndarray): Input image.\n",
    "        p (tuple): Coordinate of start position.\n",
    "        q (tuple): Coordinate of end position.\n",
    "    \n",
    "    Returns:\n",
    "    \n",
    "    \"\"\"\n",
    "    img[coords(p,q,steps(p,q))] = 1\n",
    "    \n",
    "\n",
    "def disp_and_comp():\n",
    "    \"\"\"Computes Line Hough transform; displays image and result\n",
    "    \n",
    "    Args:\n",
    "    \n",
    "    Returns:\n",
    "    \n",
    "    \"\"\"\n",
    "    ax1.imshow(img, origin = 'lower', cmap='gray')\n",
    "    \n",
    "    out, angles, d = hough_line(img)\n",
    "    \n",
    "    out_resized = resize(out, (out.shape[0], out.shape[0]), anti_aliasing=True, preserve_range=True)\n",
    "    ax2.imshow(np.log(1 + out_resized), origin = 'lower', cmap='gray')\n",
    "    ax2.set_yticks(np.linspace(0, out.shape[0], 7))\n",
    "    ax2.set_yticklabels((-1 * np.linspace(d[-1], d[0], 7)).astype(int))\n",
    "    ax2.set_xticks(np.linspace(0, out.shape[0], 5))\n",
    "    ax2.set_xticklabels(np.linspace(np.rad2deg(angles[0]), np.rad2deg(angles[-1]), 5).astype(int))\n",
    "    \n",
    "    fig.canvas.draw()\n",
    "\n",
    "    \n",
    "first_point = True\n",
    "p1 = (0,0)\n",
    "def on_press(event):\n",
    "    \"\"\"Draws either line or point and calls disp_and_comp\n",
    "    \n",
    "    Reacts to mouse clicks. Draws either point at mouse\n",
    "    position and computes Hough transform or draws line\n",
    "    between first and second mouse click and then computes\n",
    "    hough transfom.\n",
    "    \n",
    "    Args:\n",
    "        event (event): Mouseevent.\n",
    "    \n",
    "    Returns:\n",
    "    \n",
    "    \"\"\"\n",
    "    global p1, first_point\n",
    "    y = int(event.xdata)\n",
    "    x = int(event.ydata)\n",
    "    \n",
    "    if (lines):\n",
    "        if (first_point):\n",
    "            p1 = (x,y)\n",
    "            img[x, y] = 255\n",
    "            first_point = False\n",
    "        else:\n",
    "            line(img,p1,(x,y)) \n",
    "            first_point = True\n",
    "        disp_and_comp()\n",
    "    else:\n",
    "        img[x, y] = 255\n",
    "        disp_and_comp()   \n",
    "\n",
    "fig = plt.figure(figsize=(8, 6))\n",
    "\n",
    "ax1 = fig.add_subplot(121)\n",
    "plt.title('Image')\n",
    "\n",
    "ax2 = fig.add_subplot(122)\n",
    "plt.title('Hough transform');\n",
    "plt.xlabel('Angles (degrees)')\n",
    "plt.ylabel('Distance (pixels)')\n",
    "plt.tight_layout()\n",
    "plt.axis('square')\n",
    "\n",
    "disp_and_comp()\n",
    "cnc = fig.canvas.mpl_connect('button_press_event', on_press)\n",
    "\n",
    "# YOUR CODE HERE\n",
    "raise NotImplementedError()"
   ]
  },
  {
   "cell_type": "markdown",
   "id": "f01686c1",
   "metadata": {
    "deletable": false,
    "editable": false,
    "nbgrader": {
     "cell_type": "markdown",
     "checksum": "4aeb0cf1de02936f4bf9a1e7d5f5ffd2",
     "grade": false,
     "grade_id": "hough-impl",
     "locked": true,
     "schema_version": 3,
     "solution": false
    }
   },
   "source": [
    "## Assignment 3: Implementing Hough transform (5 points)"
   ]
  },
  {
   "cell_type": "code",
   "execution_count": null,
   "id": "cdac4f50",
   "metadata": {},
   "outputs": [],
   "source": [
    "# Auxiliary functions for this exercise\n",
    "import numpy as np\n",
    "from skimage.transform import hough_line, resize\n",
    "\n",
    "steps = lambda p,q : max(map(lambda x,y: abs(x-y), p, q))+1\n",
    "coords = lambda p,q,s : tuple([np.linspace(x,y,s,dtype=np.uint16) for x,y in zip(p,q)])\n",
    "\n",
    "def point(img, p):\n",
    "    \"\"\"Insert a point in the black/white image at position p\n",
    "    \n",
    "    Args:\n",
    "        img (ndarray): Input image.\n",
    "        p (tuple): Coordinate of point.\n",
    "    \n",
    "    Returns:\n",
    "    \n",
    "    \"\"\"\n",
    "    img[p] = 1\n",
    "\n",
    "def line(img, p, q):\n",
    "    \"\"\"Insert a line from p to q in the black/white image\n",
    "    \n",
    "    Args:\n",
    "        img (ndarray): Input image.\n",
    "        p (tuple): Coordinate of start position.\n",
    "        q (tuple): Coordinate of end position.\n",
    "    \n",
    "    Returns:\n",
    "    \n",
    "    \"\"\"\n",
    "    img[coords(p,q,steps(p,q))] = 1\n",
    "\n",
    "def polygon(img, vertices):\n",
    "    \"\"\"Insert a (closed) polygon given by a list of points into the black/white image\n",
    "    \n",
    "    Args:\n",
    "        img (ndarray): Input image.\n",
    "        vertices (list): List of coordinate tuples.\n",
    "    \n",
    "    Returns:\n",
    "    \n",
    "    \"\"\"\n",
    "    for p, q in zip(vertices, vertices[1:]+vertices[0:1]):\n",
    "        line(img,p,q)"
   ]
  },
  {
   "cell_type": "markdown",
   "id": "73cd472a",
   "metadata": {
    "deletable": false,
    "editable": false,
    "nbgrader": {
     "cell_type": "markdown",
     "checksum": "8f9c483446fa35e55b028ba27258cd10",
     "grade": false,
     "grade_id": "hough-impl-q1",
     "locked": true,
     "schema_version": 3,
     "solution": false
    }
   },
   "source": [
    "**a)** Implement your own version of linear Hough transform and compare the results with the function `skimage.transform.hough_line`."
   ]
  },
  {
   "cell_type": "code",
   "execution_count": null,
   "id": "bdcd6f1f",
   "metadata": {
    "deletable": false,
    "nbgrader": {
     "cell_type": "code",
     "checksum": "7b268f839cdcd18519da4213ee19cb6d",
     "grade": true,
     "grade_id": "cell-0855a82e8c3d47ce0",
     "locked": false,
     "points": 3,
     "schema_version": 3,
     "solution": true
    }
   },
   "outputs": [],
   "source": [
    "from skimage.transform import hough_line\n",
    "import matplotlib.pyplot as plt\n",
    "%matplotlib inline\n",
    "import numpy as np\n",
    "import warnings\n",
    "warnings.filterwarnings('ignore')\n",
    "\n",
    "def my_hough_line(img, angles=180):\n",
    "    \"\"\"\n",
    "    Apply linear Hough transform to the given image.\n",
    "    \n",
    "    Args:\n",
    "        img (numpy.ndarray): The binary image to transform\n",
    "        angles (int): The number of angles to consider.\n",
    "    Result:\n",
    "        accumulator (numpy.ndarray): The accumulator space.\n",
    "    \"\"\"\n",
    "    # YOUR CODE HERE\n",
    "    raise NotImplementedError()\n",
    "    return accumulator\n",
    "\n",
    "\n",
    "img = np.zeros((100,100))\n",
    "\n",
    "# You may try different paintings here:\n",
    "#point(img, (10,10))\n",
    "#line(img,(10,20),(70,20))\n",
    "polygon(img,[(20,10),(80,50),(80,80),(30,60)])\n",
    "\n",
    "\n",
    "fig, [ax1, ax2, ax3] = plt.subplots(1,3, figsize=(12,4))\n",
    "plt.gray()\n",
    "\n",
    "# original image\n",
    "ax1.set_title('Image'); \n",
    "ax1.imshow(img, origin = 'lower')\n",
    "\n",
    "# skimage\n",
    "out, angles, d = hough_line(img)\n",
    "\n",
    "out_resized = resize(out, (out.shape[0], out.shape[0]), anti_aliasing=True, preserve_range=True)\n",
    "ax2.set_title('Hough transform (skimage)');\n",
    "ax2.set_xlabel('Angles (degrees)')\n",
    "ax2.set_ylabel('Distance (pixels)')\n",
    "ax2.imshow(np.log(1 + out_resized), origin = 'lower', cmap='gray')\n",
    "ax2.set_yticks(np.linspace(0, out.shape[0], 7))\n",
    "ax2.set_yticklabels((-1 * np.linspace(d[-1], d[0], 7)).astype(int))\n",
    "ax2.set_xticks(np.linspace(0, out.shape[0], 5))\n",
    "ax2.set_xticklabels(np.linspace(np.rad2deg(angles[0]), np.rad2deg(angles[-1]), 5).astype(int))\n",
    "\n",
    "# own implementation\n",
    "my_out = my_hough_line(img)\n",
    "\n",
    "my_out_resized = resize(out, (out.shape[0], out.shape[0]), anti_aliasing=True, preserve_range=True)\n",
    "ax3.set_title('Hough transform (own implementation)');\n",
    "ax3.set_xlabel('Angles (degrees)')\n",
    "ax3.set_ylabel('Distance (pixels)')\n",
    "ax3.imshow(np.log(1 + my_out_resized), origin = 'lower', cmap='gray')\n",
    "ax3.set_yticks(np.linspace(0, out.shape[0], 7))\n",
    "ax3.set_yticklabels((-1 * np.linspace(d[-1], d[0], 7)).astype(int))\n",
    "ax3.set_xticks(np.linspace(0, out.shape[0], 5))\n",
    "ax3.set_xticklabels(np.linspace(np.rad2deg(angles[0]), np.rad2deg(angles[-1]), 5).astype(int))\n",
    "\n",
    "plt.show()"
   ]
  },
  {
   "cell_type": "markdown",
   "id": "9b6d163a",
   "metadata": {
    "deletable": false,
    "editable": false,
    "nbgrader": {
     "cell_type": "markdown",
     "checksum": "b8898aa54fa54dd8e2457eb35a842b83",
     "grade": false,
     "grade_id": "hough-impl-q2",
     "locked": true,
     "schema_version": 3,
     "solution": false
    }
   },
   "source": [
    "**b)** Under which conditions is (linear) Hough transform invertible? Try to implement an inverse linear Hough transform. \n",
    "\n",
    "You could create a line for each point in accumulator space by doing the following: Compute angle and distance of the line represented by the current point in accumulator space. Add the value of this point to all image pixels which belong to the corresponding line. Finally you could threshold the image. \n",
    "\n",
    "However, other solution are feasible, too.\n"
   ]
  },
  {
   "cell_type": "markdown",
   "id": "d045e075",
   "metadata": {
    "deletable": false,
    "nbgrader": {
     "cell_type": "markdown",
     "checksum": "55cdbeb991d4c8ba9fb4c53f96b6f105",
     "grade": true,
     "grade_id": "cell-c46015b155439644",
     "locked": false,
     "points": 1,
     "schema_version": 3,
     "solution": true
    },
    "solution": true
   },
   "source": [
    "YOUR ANSWER HERE"
   ]
  },
  {
   "cell_type": "code",
   "execution_count": null,
   "id": "5b1c6756",
   "metadata": {
    "deletable": false,
    "nbgrader": {
     "cell_type": "code",
     "checksum": "3ab03c1c1e75897684866e1c2c6e2da8",
     "grade": true,
     "grade_id": "cell-833ce3476f9c1a27",
     "locked": false,
     "points": 3,
     "schema_version": 3,
     "solution": true
    }
   },
   "outputs": [],
   "source": [
    "%matplotlib ipympl \n",
    "from skimage.transform import hough_line\n",
    "import matplotlib.pyplot as plt\n",
    "import numpy as np\n",
    "\n",
    "# YOUR CODE HERE\n",
    "raise NotImplementedError()\n",
    "\n",
    "def my_inverse_hough_line(accumulator, shape):\n",
    "    \"\"\"Compute an inverse Hough transform, i.e. compute the image from the accumulator space.\n",
    "    \n",
    "    Args:\n",
    "        accumulator (numpy.ndarray)\n",
    "        shape (tuple): The shape (dimensions) of the image to be created\n",
    "\n",
    "    Result:\n",
    "        img (numpy.ndarray): The image created from the accumulator space.\n",
    "    \"\"\"\n",
    "    img = np.zeros(shape, np.uint64)\n",
    "    \n",
    "    # YOUR CODE HERE\n",
    "    raise NotImplementedError()\n",
    "    return img\n",
    "\n",
    "img = np.zeros((100,100))\n",
    "\n",
    "#point(img, (10,10))\n",
    "#line(img,(10,20),(70,20))\n",
    "#line(img,(20,10),(20,70))\n",
    "polygon(img,[(10,30),(50,50),(10,70)])\n",
    "\n",
    "plt.figure(figsize=(12, 4))\n",
    "plt.gray()\n",
    "plt.subplot(1,3,1) ; plt.title('Image'); plt.imshow(img, origin = 'lower')\n",
    "\n",
    "out, angles, d = hough_line(img)\n",
    "out_resized = resize(out, (out.shape[0], out.shape[0]), anti_aliasing=True, preserve_range=True)\n",
    "ax = plt.subplot(1,3,2) ; plt.title('Hough transform (skimage)');\n",
    "ax.set_title('Hough transform (skimage)');\n",
    "ax.set_xlabel('Angles (degrees)')\n",
    "ax.set_ylabel('Distance (pixels)')\n",
    "ax.imshow(np.log(1 + out_resized), origin = 'lower', cmap='gray')\n",
    "ax.set_yticks(np.linspace(0, out.shape[0], 7))\n",
    "ax.set_yticklabels((-1 * np.linspace(d[-1], d[0], 7)).astype(int))\n",
    "ax.set_xticks(np.linspace(0, out.shape[0], 5))\n",
    "ax.set_xticklabels(np.linspace(np.rad2deg(angles[0]), np.rad2deg(angles[-1]), 5).astype(int))\n",
    "\n",
    "img2 = my_inverse_hough_line(out, img.shape)\n",
    "plt.subplot(1,3,3) ; plt.title('Inverse Hough transform');\n",
    "plt.imshow(img2, origin = 'lower')\n",
    "plt.show()"
   ]
  },
  {
   "cell_type": "markdown",
   "id": "ab8b5130",
   "metadata": {
    "deletable": false,
    "editable": false,
    "nbgrader": {
     "cell_type": "markdown",
     "checksum": "9df4a04d9e2d3fc1d75464995ef685a5",
     "grade": false,
     "grade_id": "cell-363c7fb6b5097e1e",
     "locked": true,
     "schema_version": 3,
     "solution": false
    }
   },
   "source": [
    "## Assignment 4: Circular Hough (5 points)"
   ]
  },
  {
   "cell_type": "markdown",
   "id": "1f3909e2",
   "metadata": {
    "deletable": false,
    "editable": false,
    "nbgrader": {
     "cell_type": "markdown",
     "checksum": "cd40e61149ec63287435d5488f453cc0",
     "grade": false,
     "grade_id": "hough-circular-q1",
     "locked": true,
     "schema_version": 3,
     "solution": false
    }
   },
   "source": [
    "**a)** Explain the idea of circular Hough transform. How many dimensions does the accumulator space have and what do they represent? What practical problems do you expect when computing circular Hough transform?"
   ]
  },
  {
   "cell_type": "markdown",
   "id": "c9dc5a32",
   "metadata": {
    "deletable": false,
    "nbgrader": {
     "cell_type": "markdown",
     "checksum": "28ff5557e61568ff55a1bc914553deb6",
     "grade": true,
     "grade_id": "hough-circular-a1",
     "locked": false,
     "points": 2,
     "schema_version": 3,
     "solution": true
    },
    "solution": true
   },
   "source": [
    "YOUR ANSWER HERE"
   ]
  },
  {
   "cell_type": "markdown",
   "id": "6cade696",
   "metadata": {
    "deletable": false,
    "editable": false,
    "nbgrader": {
     "cell_type": "markdown",
     "checksum": "f081e38bf3ce1611f4f936153ed4492c",
     "grade": false,
     "grade_id": "hough-circular-q2",
     "locked": true,
     "schema_version": 3,
     "solution": false
    }
   },
   "source": [
    "**b)** Now implement circular hough transform. First think how the accumulator space should be represented. You may provide an additional parameter to only look for circles of a given radius (or a range of radii). Then apply it to the image `xmas.png` to detect the balls. Mark them in the original image. (Bonus task: also detect the presents using linear Hough transform)."
   ]
  },
  {
   "cell_type": "code",
   "execution_count": null,
   "id": "47fbfcce",
   "metadata": {
    "deletable": false,
    "nbgrader": {
     "cell_type": "code",
     "checksum": "699143eebc82a83ca954a8c32a793866",
     "grade": true,
     "grade_id": "hough-circular-a23",
     "locked": false,
     "points": 3,
     "schema_version": 3,
     "solution": true
    }
   },
   "outputs": [],
   "source": [
    "%matplotlib ipympl\n",
    "from skimage.transform import hough_line\n",
    "from scipy import misc\n",
    "from imageio.v3 import imread\n",
    "import matplotlib.pyplot as plt\n",
    "import numpy as np\n",
    "\n",
    "# load the image\n",
    "img = imread('images/xmas.png')\n",
    "\n",
    "# YOUR CODE HERE\n",
    "raise NotImplementedError()"
   ]
  }
 ],
 "metadata": {
  "kernelspec": {
   "display_name": "Python 3 (ipykernel)",
   "language": "python",
   "name": "python3"
  },
  "language_info": {
   "codemirror_mode": {
    "name": "ipython",
    "version": 3
   },
   "file_extension": ".py",
   "mimetype": "text/x-python",
   "name": "python",
   "nbconvert_exporter": "python",
   "pygments_lexer": "ipython3",
   "version": "3.11.9"
  }
 },
 "nbformat": 4,
 "nbformat_minor": 5
}
