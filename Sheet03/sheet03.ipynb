{
 "cells": [
  {
   "cell_type": "markdown",
   "id": "0209a277",
   "metadata": {
    "deletable": false,
    "editable": false,
    "nbgrader": {
     "cell_type": "markdown",
     "checksum": "06a5b796a3583e5de63b40848e61feab",
     "grade": false,
     "grade_id": "h00",
     "locked": true,
     "schema_version": 3,
     "solution": false
    }
   },
   "source": [
    "Osnabrück University - Computer Vision (Winter Term 2024/25) - Dr. Ulf Krumnack, Lukas Niehaus, Robin Rawiel"
   ]
  },
  {
   "cell_type": "markdown",
   "id": "cc152119",
   "metadata": {
    "deletable": false,
    "editable": false,
    "nbgrader": {
     "cell_type": "markdown",
     "checksum": "b1196401b994013b2a6c66646e809657",
     "grade": false,
     "grade_id": "h02",
     "locked": true,
     "schema_version": 3,
     "solution": false
    }
   },
   "source": [
    "# Exercise Sheet 03: Morphological Operations¶"
   ]
  },
  {
   "cell_type": "markdown",
   "id": "477fc5b9",
   "metadata": {
    "deletable": false,
    "editable": false,
    "nbgrader": {
     "cell_type": "markdown",
     "checksum": "547fbc891fdab8752824785ef56dc81d",
     "grade": false,
     "grade_id": "h03",
     "locked": true,
     "schema_version": 3,
     "solution": false
    }
   },
   "source": [
    "## Introduction\n",
    "\n",
    "This week's sheet should be solved and handed in before the end of **Monday, December 2, 2024**. If you need help (and Google and other resources were not enough) use the StudIP forum. Please upload your results to your group's Stud.IP folder."
   ]
  },
  {
   "cell_type": "markdown",
   "id": "91cf738e",
   "metadata": {
    "deletable": false,
    "editable": false,
    "nbgrader": {
     "cell_type": "markdown",
     "checksum": "a70f50d366cc4d86ff84f7a01b1145d5",
     "grade": false,
     "grade_id": "math-complex",
     "locked": true,
     "schema_version": 3,
     "solution": false
    }
   },
   "source": [
    "## Assignment 0: Math recap (complex numbers) [0 Points]\n",
    "\n",
    "This exercise is supposed to be easy, does not give any points, and is voluntary. There may be similar exercises on future sheets. They are intended to revise some basic mathematical notions that are assumed throughout this class and to allow you to check if you are comfortable with them. Usually you should have no problem to answer these questions offhand, but if you feel unsure, this is a good time to look up these concepts (again). You are always welcome to discuss questions with the tutors or in the practice session. Also, if you have a (math) topic you would like to recap, please let us know."
   ]
  },
  {
   "cell_type": "markdown",
   "id": "e85d0887",
   "metadata": {
    "deletable": false,
    "editable": false,
    "nbgrader": {
     "cell_type": "markdown",
     "checksum": "e2b54d29e72e6ae1c80ce2ca76794c23",
     "grade": false,
     "grade_id": "math-complex-q1",
     "locked": true,
     "schema_version": 3,
     "solution": false
    }
   },
   "source": [
    "**a)** What is a *complex number*, what is the *complex plane*, how are complex numbers usually denoted?"
   ]
  },
  {
   "cell_type": "markdown",
   "id": "a55d1c13",
   "metadata": {
    "deletable": false,
    "nbgrader": {
     "cell_type": "markdown",
     "checksum": "ec05f3e7aa3c1e9c5a038201ee5ec951",
     "grade": true,
     "grade_id": "math-complex-a1",
     "locked": false,
     "points": 0,
     "schema_version": 3,
     "solution": true
    },
    "solution": "shown"
   },
   "source": [
    "YOUR ANSWER HERE"
   ]
  },
  {
   "cell_type": "markdown",
   "id": "a20d7341",
   "metadata": {
    "deletable": false,
    "editable": false,
    "nbgrader": {
     "cell_type": "markdown",
     "checksum": "ccfe5449d902c925509009359358a4c4",
     "grade": false,
     "grade_id": "math-complex-q2",
     "locked": true,
     "schema_version": 3,
     "solution": false
    }
   },
   "source": [
    "**b)** What is the *real* and the *imaginary* part of a complex number? What is the *absolute value* of a complex number? What is the *complex conjugate*?"
   ]
  },
  {
   "cell_type": "markdown",
   "id": "364ed564",
   "metadata": {
    "deletable": false,
    "nbgrader": {
     "cell_type": "markdown",
     "checksum": "3472240c0d0e5b839d417858856dc9f6",
     "grade": true,
     "grade_id": "math-complex-a2",
     "locked": false,
     "points": 0,
     "schema_version": 3,
     "solution": true
    },
    "solution": "shown"
   },
   "source": [
    "YOUR ANSWER HERE"
   ]
  },
  {
   "cell_type": "markdown",
   "id": "a8a5e3f8",
   "metadata": {
    "deletable": false,
    "editable": false,
    "nbgrader": {
     "cell_type": "markdown",
     "checksum": "af79ffaa0b22f0cc6e7489a45b5feb9e",
     "grade": false,
     "grade_id": "math-complex-q3",
     "locked": true,
     "schema_version": 3,
     "solution": false
    }
   },
   "source": [
    "**c)** What are polar coordinates? What are their advantages? Can you convert between cartesian and polar coordinates? Can you write down $i=\\sqrt{-1}$ in polar coordinates? What about $\\sqrt{i}$?"
   ]
  },
  {
   "cell_type": "markdown",
   "id": "ed9f0532",
   "metadata": {
    "deletable": false,
    "nbgrader": {
     "cell_type": "markdown",
     "checksum": "0226c6277f0ff47ebdd6e41d516300ac",
     "grade": true,
     "grade_id": "math-complex-a3",
     "locked": false,
     "points": 0,
     "schema_version": 3,
     "solution": true
    },
    "solution": "shown"
   },
   "source": [
    "YOUR ANSWER HERE"
   ]
  },
  {
   "cell_type": "markdown",
   "id": "ce3e0318",
   "metadata": {
    "deletable": false,
    "editable": false,
    "nbgrader": {
     "cell_type": "markdown",
     "checksum": "d8422e71a9d99084096779c8fb9f0251",
     "grade": false,
     "grade_id": "math-complex-q4",
     "locked": true,
     "schema_version": 3,
     "solution": false
    }
   },
   "source": [
    "**d)** Python, and also numpy, support calculations with complex numbers. Consult the documentation to find out details. Notice that $i$ is substituted by $j$ in Python."
   ]
  },
  {
   "cell_type": "code",
   "execution_count": null,
   "id": "ba8a14a7",
   "metadata": {
    "deletable": false,
    "nbgrader": {
     "cell_type": "code",
     "checksum": "36179fa87b7ad15c52b2e8156e116a6b",
     "grade": true,
     "grade_id": "math-complex-a4",
     "locked": false,
     "points": 0,
     "schema_version": 3,
     "solution": true
    },
    "solution": "hidden"
   },
   "outputs": [],
   "source": [
    "# YOUR CODE HERE\n",
    "raise NotImplementedError()"
   ]
  },
  {
   "cell_type": "markdown",
   "id": "7fce31c5",
   "metadata": {
    "deletable": false,
    "editable": false,
    "nbgrader": {
     "cell_type": "markdown",
     "checksum": "96f7a23bfce9deae217f951849ace9ae",
     "grade": false,
     "grade_id": "cell-c41ac23c314610c4",
     "locked": true,
     "schema_version": 3,
     "solution": false,
     "task": false
    }
   },
   "source": [
    "## Assignment 1: Noise and Local Operators (7 points)"
   ]
  },
  {
   "cell_type": "code",
   "execution_count": null,
   "id": "7ca6d248",
   "metadata": {
    "deletable": false,
    "editable": false,
    "nbgrader": {
     "cell_type": "code",
     "checksum": "f6c532e49a3a9e7a709edfad2d36c75a",
     "grade": false,
     "grade_id": "cell-8c6476349f57bd00",
     "locked": true,
     "schema_version": 3,
     "solution": false,
     "task": false
    }
   },
   "outputs": [],
   "source": [
    "import numpy as np\n",
    "import skimage.data\n",
    "import imageio.v3 as iio\n",
    "import matplotlib.pyplot as plt\n",
    "from scipy.ndimage import convolve"
   ]
  },
  {
   "cell_type": "markdown",
   "id": "18ce1084",
   "metadata": {
    "deletable": false,
    "editable": false,
    "nbgrader": {
     "cell_type": "markdown",
     "checksum": "154807a66c34f8c4af66e6410dafea0f",
     "grade": false,
     "grade_id": "cell-0cf66b1084927701",
     "locked": true,
     "schema_version": 3,
     "solution": false,
     "task": false
    }
   },
   "source": [
    "## Getting the Original Image"
   ]
  },
  {
   "cell_type": "code",
   "execution_count": null,
   "id": "39538cfd",
   "metadata": {
    "deletable": false,
    "editable": false,
    "nbgrader": {
     "cell_type": "code",
     "checksum": "bfb5751462ce58dbffda4dad3cf2861a",
     "grade": false,
     "grade_id": "cell-c5a42f6e5cc760f8",
     "locked": true,
     "schema_version": 3,
     "solution": false,
     "task": false
    }
   },
   "outputs": [],
   "source": [
    "image = skimage.data.coins().astype(np.float64)\n",
    "plt.imshow(image, cmap=\"gray\")\n",
    "plt.show()"
   ]
  },
  {
   "cell_type": "markdown",
   "id": "57caaa74",
   "metadata": {
    "deletable": false,
    "editable": false,
    "nbgrader": {
     "cell_type": "markdown",
     "checksum": "d81def68e089f226f6a7a4a84f4cd2a2",
     "grade": false,
     "grade_id": "cell-c10bdf41bb35f6b7",
     "locked": true,
     "schema_version": 3,
     "solution": false,
     "task": false
    }
   },
   "source": [
    "### a) Salt and Pepper Noise\n",
    "\n",
    "Add salt and pepper noise to the image."
   ]
  },
  {
   "cell_type": "code",
   "execution_count": null,
   "id": "ea7c6146",
   "metadata": {
    "deletable": false,
    "nbgrader": {
     "cell_type": "code",
     "checksum": "78e5211a03a692bb83e03ce119c5525c",
     "grade": true,
     "grade_id": "cell-22bd2df279f55a42",
     "locked": false,
     "points": 0,
     "schema_version": 3,
     "solution": true,
     "task": false
    }
   },
   "outputs": [],
   "source": [
    "noise_ratio = .05\n",
    "sp_noisy = image.copy()\n",
    "# YOUR CODE HERE\n",
    "raise NotImplementedError()\n",
    "plt.imshow(sp_noisy, cmap=\"gray\")\n",
    "plt.show()"
   ]
  },
  {
   "cell_type": "markdown",
   "id": "d038b5ab",
   "metadata": {
    "deletable": false,
    "editable": false,
    "nbgrader": {
     "cell_type": "markdown",
     "checksum": "b994cb5e00eecffc0c99cb09527fc3a5",
     "grade": false,
     "grade_id": "cell-2f429fef801e5ae0",
     "locked": true,
     "schema_version": 3,
     "solution": false,
     "task": false
    }
   },
   "source": [
    "### b) Gaussian Noise\n",
    "Add gaussian noise to the image."
   ]
  },
  {
   "cell_type": "code",
   "execution_count": null,
   "id": "8298b9d4",
   "metadata": {
    "deletable": false,
    "nbgrader": {
     "cell_type": "code",
     "checksum": "b60ba4055a0c8ce0a98d7ed438c4689d",
     "grade": true,
     "grade_id": "cell-05a47941f99033ca",
     "locked": false,
     "points": 0,
     "schema_version": 3,
     "solution": true,
     "task": false
    }
   },
   "outputs": [],
   "source": [
    "sigma = 20\n",
    "gauss_noisy = image.copy()\n",
    "# YOUR CODE HERE\n",
    "raise NotImplementedError()\n",
    "plt.imshow(gauss_noisy, cmap=\"gray\")\n",
    "plt.show()"
   ]
  },
  {
   "cell_type": "markdown",
   "id": "89acc116",
   "metadata": {
    "deletable": false,
    "editable": false,
    "nbgrader": {
     "cell_type": "markdown",
     "checksum": "0cfaa20d2aa90a8b324fd6a2461b8be6",
     "grade": false,
     "grade_id": "cell-2d13eacb563baba9",
     "locked": true,
     "schema_version": 3,
     "solution": false,
     "task": false
    }
   },
   "source": [
    "## c) Define Local Operator\n",
    "In this exercise you will have to finish the local_operator function (cf. CV-04 p. 14).\n",
    "\n",
    "The function will receive an image (img), kernel size (kernel_size) and a function as parameters.\n",
    "\n",
    "For each pixel in the image, it will select a window of surrounding pixels according to the kernel_size.\n",
    "\n",
    "This window is then passed on to the function as an argument.\n",
    "The function then stores the result in the same position of the resulting image.\n",
    "Therefore, the function should look similar to this:\n",
    "```python\n",
    "# define the function\n",
    "def f(data):\n",
    "    \"\"\"Function to be applied by the local operator. \n",
    "    This example just returns 0.0, i.e. a black image.\n",
    "    \n",
    "    Args:\n",
    "        data (np.ndarray): The window of the image as array. \n",
    "            Has the same shape as kernel_size, passed to local_operator.\n",
    "        \n",
    "    Returns:\n",
    "        result (float): The value for the pixel at the same position in the resulting image\n",
    "    \"\"\"\n",
    "    return 0.0\n",
    "\n",
    "# call the local_operator with the function\n",
    "local_operator(\n",
    "    image,\n",
    "    kernel_size=(1,1), \n",
    "    function=f,\n",
    ")\n",
    "```"
   ]
  },
  {
   "cell_type": "code",
   "execution_count": null,
   "id": "7c53e8df",
   "metadata": {
    "deletable": false,
    "nbgrader": {
     "cell_type": "code",
     "checksum": "abd5277ac29d35ba89b982c468689266",
     "grade": true,
     "grade_id": "cell-71778269a5ed6c62",
     "locked": false,
     "points": 0,
     "schema_version": 3,
     "solution": true,
     "task": false
    }
   },
   "outputs": [],
   "source": [
    "def local_operator(img, kernel_size, function):\n",
    "    \"\"\"Execute a local operation on an image.\n",
    "\n",
    "    Args:\n",
    "        img (np.ndarray): The image, provided as a two-dimensional array.\n",
    "        kernel_size (tuple): Shape of the applied window.\n",
    "        function (function): the function that is applied to the window\n",
    "        \n",
    "    Returns:\n",
    "        result (np.ndarray): The new image after the local operator was applied. \n",
    "        \n",
    "    \"\"\"\n",
    "    \n",
    "    # store the image size for easier access\n",
    "    M,N = img.shape\n",
    "    # store the kernel size\n",
    "    m,n = kernel_size\n",
    "    # and also the half kernel size\n",
    "    mh, nh = (m//2, n//2)\n",
    "    \n",
    "    # Initialize the result matrix\n",
    "    result = np.zeros((M,N), dtype=np.float64)\n",
    "\n",
    "    # Compute the operation\n",
    "    # YOUR CODE HERE\n",
    "    raise NotImplementedError()\n",
    "    return result"
   ]
  },
  {
   "cell_type": "markdown",
   "id": "3d171348",
   "metadata": {
    "deletable": false,
    "editable": false,
    "nbgrader": {
     "cell_type": "markdown",
     "checksum": "0f3f8ee682de977adcce72f5d06a6ebf",
     "grade": false,
     "grade_id": "cell-09a58b7644712f8b",
     "locked": true,
     "schema_version": 3,
     "solution": false,
     "task": false
    }
   },
   "source": [
    "As an example, we provide you with an identity filter, which just returns the original image."
   ]
  },
  {
   "cell_type": "code",
   "execution_count": null,
   "id": "eed4ceb5",
   "metadata": {
    "deletable": false,
    "editable": false,
    "nbgrader": {
     "cell_type": "code",
     "checksum": "ac1d74f42ad334507e9283dc73876875",
     "grade": false,
     "grade_id": "cell-398677d7dd054bca",
     "locked": true,
     "schema_version": 3,
     "solution": false,
     "task": false
    }
   },
   "outputs": [],
   "source": [
    "def identity_filter(image):\n",
    "    return local_operator(\n",
    "        image,\n",
    "        kernel_size=(1,1), \n",
    "        function=lambda x: x[0][0],\n",
    "    )\n",
    "plt.imshow(identity_filter(image), cmap=\"gray\")\n",
    "plt.show()"
   ]
  },
  {
   "cell_type": "markdown",
   "id": "6b4171c8",
   "metadata": {
    "deletable": false,
    "editable": false,
    "nbgrader": {
     "cell_type": "markdown",
     "checksum": "5b79e91c2c6db29ec23b15f3cd51feaf",
     "grade": false,
     "grade_id": "cell-57bd6b0e831d4e0b",
     "locked": true,
     "schema_version": 3,
     "solution": false,
     "task": false
    }
   },
   "source": [
    "### d) Create and apply the following filters:\n",
    " - Min Filter (cf. CV-04 slides 23-24)\n",
    " - Max Filter (cf. CV-04 slides 23-24)\n",
    " - Median Filter (cf. CV-04 slides 25-26)\n",
    " - KNN Filter (cf. CV-04 slide 29)\n",
    " - SNN Filter (cf. CV-04 slide 30)\n",
    "\n",
    "Use a kernel_size of `(3, 3)` and for the KNN filter, set K$=4$"
   ]
  },
  {
   "cell_type": "code",
   "execution_count": null,
   "id": "bf65db5f",
   "metadata": {
    "deletable": false,
    "nbgrader": {
     "cell_type": "code",
     "checksum": "6a97f3d4565999022afabb22cfe9e5b5",
     "grade": true,
     "grade_id": "cell-5b24bcc6be7e7ce6",
     "locked": false,
     "points": 0,
     "schema_version": 3,
     "solution": true,
     "task": false
    }
   },
   "outputs": [],
   "source": [
    "# YOUR CODE HERE\n",
    "raise NotImplementedError()\n",
    "fig, ax = plt.subplots(1, 2, sharex=True, sharey=True, figsize=(16, 9))\n",
    "\n",
    "ax[0].imshow(min_filter(sp_noisy), cmap=\"gray\")\n",
    "ax[0].set_title(\"Min Filter: Salt and Pepper\")\n",
    "\n",
    "ax[1].imshow(min_filter(gauss_noisy), cmap=\"gray\")\n",
    "ax[1].set_title(\"Min Filter: Gaussian\")\n",
    "\n",
    "plt.show()"
   ]
  },
  {
   "cell_type": "code",
   "execution_count": null,
   "id": "0f2bb1de",
   "metadata": {
    "deletable": false,
    "nbgrader": {
     "cell_type": "code",
     "checksum": "8a16b493b0623ad4372c6e2ad293941e",
     "grade": true,
     "grade_id": "cell-f4b4871bce1f60f4",
     "locked": false,
     "points": 0,
     "schema_version": 3,
     "solution": true,
     "task": false
    }
   },
   "outputs": [],
   "source": [
    "# YOUR CODE HERE\n",
    "raise NotImplementedError()\n",
    "fig, ax = plt.subplots(1, 2, sharex=True, sharey=True, figsize=(16, 9))\n",
    "\n",
    "ax[0].imshow(max_filter(sp_noisy), cmap=\"gray\")\n",
    "ax[0].set_title(\"Max Filter: Salt and Pepper\")\n",
    "\n",
    "ax[1].imshow(max_filter(gauss_noisy), cmap=\"gray\")\n",
    "ax[1].set_title(\"Max Filter: Gaussian\")\n",
    "\n",
    "plt.show()"
   ]
  },
  {
   "cell_type": "code",
   "execution_count": null,
   "id": "df43fbd5",
   "metadata": {
    "deletable": false,
    "nbgrader": {
     "cell_type": "code",
     "checksum": "b80f8f711785c6ea6cc41d470a600f39",
     "grade": true,
     "grade_id": "cell-1da69e14d91612c7",
     "locked": false,
     "points": 0,
     "schema_version": 3,
     "solution": true,
     "task": false
    }
   },
   "outputs": [],
   "source": [
    "# YOUR CODE HERE\n",
    "raise NotImplementedError()\n",
    "fig, ax = plt.subplots(1, 2, sharex=True, sharey=True, figsize=(16, 9))\n",
    "\n",
    "ax[0].imshow(median_filter(sp_noisy), cmap=\"gray\")\n",
    "ax[0].set_title(\"Median Filter: Salt and Pepper\")\n",
    "\n",
    "ax[1].imshow(median_filter(gauss_noisy), cmap=\"gray\")\n",
    "ax[1].set_title(\"Median Filter: Gaussian\")\n",
    "\n",
    "plt.show()"
   ]
  },
  {
   "cell_type": "code",
   "execution_count": null,
   "id": "1adc5623",
   "metadata": {
    "deletable": false,
    "nbgrader": {
     "cell_type": "code",
     "checksum": "de2e5691dad9e26689a5e681378b353b",
     "grade": true,
     "grade_id": "cell-2d61a6ee77c80bf0",
     "locked": false,
     "points": 0,
     "schema_version": 3,
     "solution": true,
     "task": false
    }
   },
   "outputs": [],
   "source": [
    "# YOUR CODE HERE\n",
    "raise NotImplementedError()\n",
    "fig, ax = plt.subplots(1, 2, sharex=True, sharey=True, figsize=(16, 9))\n",
    "\n",
    "ax[0].imshow(median_filter(sp_noisy), cmap=\"gray\")\n",
    "ax[0].set_title(\"KNN Filter: Salt and Pepper\")\n",
    "\n",
    "ax[1].imshow(median_filter(gauss_noisy), cmap=\"gray\")\n",
    "ax[1].set_title(\"KNN Filter: Gaussian\")\n",
    "\n",
    "plt.show()"
   ]
  },
  {
   "cell_type": "code",
   "execution_count": null,
   "id": "4d8e532a",
   "metadata": {
    "deletable": false,
    "nbgrader": {
     "cell_type": "code",
     "checksum": "da9e9a5ee952454803b3aead88cbec6a",
     "grade": true,
     "grade_id": "cell-b612ca5700acbff5",
     "locked": false,
     "points": 0,
     "schema_version": 3,
     "solution": true,
     "task": false
    }
   },
   "outputs": [],
   "source": [
    "# YOUR CODE HERE\n",
    "raise NotImplementedError()\n",
    "fig, ax = plt.subplots(1, 2, sharex=True, sharey=True, figsize=(16, 9))\n",
    "\n",
    "ax[0].imshow(snn_filter(sp_noisy), cmap=\"gray\")\n",
    "ax[0].set_title(\"SNN Filter: Salt and Pepper\")\n",
    "\n",
    "ax[1].imshow(snn_filter(gauss_noisy), cmap=\"gray\")\n",
    "ax[1].set_title(\"SNN Filter: Gaussian\")\n",
    "\n",
    "plt.show()"
   ]
  },
  {
   "cell_type": "markdown",
   "id": "f3cabe2b",
   "metadata": {
    "deletable": false,
    "editable": false,
    "nbgrader": {
     "cell_type": "markdown",
     "checksum": "54c8031c74e95e3eefda061305a1150d",
     "grade": false,
     "grade_id": "morph-basics",
     "locked": true,
     "schema_version": 3,
     "solution": false
    }
   },
   "source": [
    "## Assignment 2: Morphological operators (3 points)\n",
    "\n",
    "This exercise will elaborate on the basic morphological operators of *erosion* and *dilation* (cf. CV-04 slides 35-51)."
   ]
  },
  {
   "cell_type": "markdown",
   "id": "bcfe6398",
   "metadata": {
    "deletable": false,
    "editable": false,
    "nbgrader": {
     "cell_type": "markdown",
     "checksum": "ad6ac37cc4fa8ebdf4f4b9498cadf8d1",
     "grade": false,
     "grade_id": "morph-basics-q1",
     "locked": true,
     "schema_version": 3,
     "solution": false
    }
   },
   "source": [
    "### a) Morphological operators\n",
    "\n",
    "Explain in your own words the idea of morphological operators. Describe potential applications."
   ]
  },
  {
   "cell_type": "markdown",
   "id": "ac33801a",
   "metadata": {
    "deletable": false,
    "nbgrader": {
     "cell_type": "markdown",
     "checksum": "69dddc9e77496b976088e5b80374991e",
     "grade": true,
     "grade_id": "morph-basics-a1",
     "locked": false,
     "points": 1,
     "schema_version": 3,
     "solution": true
    },
    "solution": true
   },
   "source": [
    "YOUR ANSWER HERE"
   ]
  },
  {
   "cell_type": "markdown",
   "id": "a89e9e42",
   "metadata": {
    "deletable": false,
    "editable": false,
    "nbgrader": {
     "cell_type": "markdown",
     "checksum": "e6539a20789b4fd0cd37dc2fdee330da",
     "grade": false,
     "grade_id": "morph-basics-q2",
     "locked": true,
     "schema_version": 3,
     "solution": false
    }
   },
   "source": [
    "### b) Erosion and dilation\n",
    "\n",
    "Describe in your own words the morphological operations *erosion* and *dilation*. Compare them with 2D convolution, name commonalities and differences."
   ]
  },
  {
   "cell_type": "markdown",
   "id": "1c0c08e9",
   "metadata": {
    "deletable": false,
    "nbgrader": {
     "cell_type": "markdown",
     "checksum": "419b77530290aaa660ef064ee7b7582f",
     "grade": true,
     "grade_id": "morph-basics-a2",
     "locked": false,
     "points": 1,
     "schema_version": 3,
     "solution": true
    },
    "solution": true
   },
   "source": [
    "YOUR ANSWER HERE"
   ]
  },
  {
   "cell_type": "markdown",
   "id": "2fa18543",
   "metadata": {
    "deletable": false,
    "editable": false,
    "nbgrader": {
     "cell_type": "markdown",
     "checksum": "83421b2f7aee3551ab69e64c3a5f73d0",
     "grade": false,
     "grade_id": "morph-basics-q3",
     "locked": true,
     "schema_version": 3,
     "solution": false
    }
   },
   "source": [
    "### c) Structuring element\n",
    "\n",
    "Erosion of an image $g$ with a structuring element $S$ results in an image $g'$ that is a \"subset\" of that image (in the sense that all pixels set in $g$ are also set in $g'$) as long as the anchor point is contained in $S$, i.e. covered by a **1** in the structuring element. Provide an example in which the erosion $g'=g\\ominus S$ lies outside (or partially outside) of $g$."
   ]
  },
  {
   "cell_type": "markdown",
   "id": "277c8050",
   "metadata": {
    "deletable": false,
    "nbgrader": {
     "cell_type": "markdown",
     "checksum": "e8a300005509122ff1fab015c9b5b236",
     "grade": true,
     "grade_id": "morph-basics-a3",
     "locked": false,
     "points": 1,
     "schema_version": 3,
     "solution": true
    }
   },
   "source": [
    "YOUR ANSWER HERE"
   ]
  },
  {
   "cell_type": "markdown",
   "id": "c7965eea",
   "metadata": {
    "deletable": false,
    "editable": false,
    "nbgrader": {
     "cell_type": "markdown",
     "checksum": "9a73d4a06f22453a14f5fcccece1f0c3",
     "grade": false,
     "grade_id": "morph-erode",
     "locked": true,
     "schema_version": 3,
     "solution": false
    }
   },
   "source": [
    "## Assignment 3: Properties of morphological operators (5 points)\n",
    "\n",
    "This exercise will elaborate on the basic morphological operators of *erosion* and *dilation* (cf. CV-04 slides 35-51)."
   ]
  },
  {
   "cell_type": "markdown",
   "id": "86a21373",
   "metadata": {
    "deletable": false,
    "editable": false,
    "nbgrader": {
     "cell_type": "markdown",
     "checksum": "56b62744dc81f35a8246833258c0547f",
     "grade": false,
     "grade_id": "morph-erode-q2",
     "locked": true,
     "schema_version": 3,
     "solution": false
    }
   },
   "source": [
    "### a) Duality\n",
    "\n",
    "Proof that *erosion* and *dilation* are *dual* operators, i.e.\n",
    "\n",
    "$$ g^{\\ast}\\oplus S = (g\\ominus S)^{\\ast}\\qquad\\text{and}\\qquad\n",
    "g^{\\ast}\\ominus S = (g\\oplus S)^{\\ast}$$\n",
    "\n",
    "here $g^{\\ast}$ denotes the inverted binary image, i.e. $g^{\\ast}(x,y) = 1 - g(x,y) = \\neg g(x,y)$, i.e. 1-pixel become 0 and 0-pixel become 1."
   ]
  },
  {
   "cell_type": "markdown",
   "id": "62add492",
   "metadata": {
    "deletable": false,
    "nbgrader": {
     "cell_type": "markdown",
     "checksum": "3044c284df7bf7863c841bb78d92d059",
     "grade": true,
     "grade_id": "morph-erode-a2",
     "locked": false,
     "points": 1,
     "schema_version": 3,
     "solution": true
    },
    "solution": true
   },
   "source": [
    "YOUR ANSWER HERE"
   ]
  },
  {
   "cell_type": "markdown",
   "id": "423de5df",
   "metadata": {
    "deletable": false,
    "editable": false,
    "nbgrader": {
     "cell_type": "markdown",
     "checksum": "f8d981667b7ae25a93bc05798f5a0fd6",
     "grade": false,
     "grade_id": "morph-erode-q3",
     "locked": true,
     "schema_version": 3,
     "solution": false
    }
   },
   "source": [
    "### b) Superposition\n",
    "\n",
    "As *erosion* and *dilation* have been introduced for binary images, the notion of *linearity* is not really appropriate here. However, some weaker version, called *superposition* can be defined: instead of forming a linear combination, one takes the logical disjunction:\n",
    "\n",
    "$$(g_1\\lor g_2)(x,y) := g_1(x,y)\\lor g_2(x,y)$$\n",
    "\n",
    "Check for both operations if *erosion* and *dilation* are \"compatible\" with superposition, i.e. if first *eroding* (or *dilating*) two images and superposing the result is the same as first superposing the images and then *eroding* (or *dilating*) the result."
   ]
  },
  {
   "cell_type": "markdown",
   "id": "b9b7af67",
   "metadata": {
    "deletable": false,
    "nbgrader": {
     "cell_type": "markdown",
     "checksum": "6d85d53bbf5372f62a089369733ad0d0",
     "grade": true,
     "grade_id": "morph-erode-a3",
     "locked": false,
     "points": 2,
     "schema_version": 3,
     "solution": true
    },
    "solution": true
   },
   "source": [
    "YOUR ANSWER HERE"
   ]
  },
  {
   "cell_type": "code",
   "execution_count": null,
   "id": "1a2a35cd",
   "metadata": {
    "deletable": false,
    "nbgrader": {
     "cell_type": "code",
     "checksum": "773d88696403b02c90a743915c3481ad",
     "grade": true,
     "grade_id": "cell-ce394efa205416156",
     "locked": false,
     "points": 0,
     "schema_version": 3,
     "solution": true
    }
   },
   "outputs": [],
   "source": [
    "# YOUR CODE HERE\n",
    "raise NotImplementedError()"
   ]
  },
  {
   "cell_type": "markdown",
   "id": "c96c6c04",
   "metadata": {
    "deletable": false,
    "editable": false,
    "nbgrader": {
     "cell_type": "markdown",
     "checksum": "3d1dabc64b49da6e53cf5106e52063d7",
     "grade": false,
     "grade_id": "morph-erode-q4",
     "locked": true,
     "schema_version": 3,
     "solution": false
    }
   },
   "source": [
    "### c) Chaining\n",
    "\n",
    "Show that *dilation* and *erosion* have the following properties: given two structering elements $S_1$ and $S_2$, it holds\n",
    "\n",
    "\\begin{align}\n",
    "  (g\\oplus S_1)\\oplus S_2 & & = & g\\oplus (S_1\\oplus S_2) && = (g\\oplus S_2)\\oplus S_1 \\\\\n",
    "  (g\\ominus S_1)\\ominus S_2 & & = & g\\ominus (S_1\\ominus S_2) && = (g\\ominus S_2)\\ominus S_1 \\\\  \n",
    "\\end{align}\n",
    "\n",
    "What are the practical consequences?"
   ]
  },
  {
   "cell_type": "markdown",
   "id": "b1bec809",
   "metadata": {
    "deletable": false,
    "nbgrader": {
     "cell_type": "markdown",
     "checksum": "ba31be8d5bf8fd37af80dda340c53dc5",
     "grade": true,
     "grade_id": "morph-erode-a4",
     "locked": false,
     "points": 2,
     "schema_version": 3,
     "solution": true
    },
    "solution": true
   },
   "source": [
    "YOUR ANSWER HERE"
   ]
  },
  {
   "cell_type": "markdown",
   "id": "415523aa",
   "metadata": {},
   "source": [
    "Remark: for the argument to work, we have to assume, that images and structuring elements are large enough and zero-padded. Otherwise it is possible to create counter examples like the following:"
   ]
  },
  {
   "cell_type": "code",
   "execution_count": null,
   "id": "aa6e7db0",
   "metadata": {},
   "outputs": [],
   "source": [
    "import numpy as np\n",
    "from scipy.ndimage import binary_dilation\n",
    "a =          np.array([[0,0,0,0,0],\n",
    "                      [0,0,0,0,0],\n",
    "                      [0,0,1,0,0],\n",
    "                      [0,0,0,0,0],\n",
    "                      [0,0,0,0,0]])\n",
    "b2 =          np.array([[0,0,0,0,0], #for this one the rule holds \n",
    "                      [0,1,1,1,0],\n",
    "                      [0,1,1,1,0],\n",
    "                      [0,1,1,1,0],\n",
    "                      [0,0,0,0,0]])\n",
    "b =          np.array([[1,1,1], #for this one it dosen´t\n",
    "                      [1,1,1],\n",
    "                      [1,1,1],])\n",
    "c = b\n",
    "c2 = b2\n",
    "d = np.zeros(c.shape, int)\n",
    "out1 = np.zeros(a.shape, int)\n",
    "out2 = np.zeros(a.shape, int)\n",
    "out1 = binary_dilation(binary_dilation(a,b),c)\n",
    "out2 = binary_dilation(a,binary_dilation(b,c))\n",
    "\n",
    "print(out1)\n",
    "print(out2)"
   ]
  },
  {
   "cell_type": "markdown",
   "id": "f18c0478",
   "metadata": {
    "deletable": false,
    "editable": false,
    "nbgrader": {
     "cell_type": "markdown",
     "checksum": "774c0aa3ee4b095e980c81b110818456",
     "grade": false,
     "grade_id": "cell-60d8cfa910b52231",
     "locked": true,
     "schema_version": 3,
     "solution": false
    }
   },
   "source": [
    "## Assignment 4: Custom Structuring Element (5 points)\n",
    "\n",
    "Landsat 7 was a satelite mission for acquisition of satellite imagery of Earth. Unfortunately the Scan Line Corrector failed, resulting in black stripes on the aquired images. More information: [https://landsat.gsfc.nasa.gov/satellites/landsat-7](https://landsat.gsfc.nasa.gov/satellites/landsat-7)"
   ]
  },
  {
   "cell_type": "markdown",
   "id": "a5cdf90b",
   "metadata": {
    "deletable": false,
    "editable": false,
    "nbgrader": {
     "cell_type": "markdown",
     "checksum": "c63b8fb2a0d2993e270bcbb6bc229729",
     "grade": false,
     "grade_id": "cell-ca1552e7bddf7b74",
     "locked": true,
     "schema_version": 3,
     "solution": false
    }
   },
   "source": [
    "### a) A first fix\n",
    "\n",
    "A rather crude fix is to apply a custom structuring element for dilation and erosion (see CV-04, 66ff). Complement the code below (in part (b)) in the following way:\n",
    "* Rotate the image such that the gaps are horizontal.\n",
    "* Dilate the rotated image with a vertical structuring element. I.e. take the maximum of an area of size $7 \\times1$ and assign it to the center pixel. Repeat for all pixels.\n",
    "* Erode the dilated image.\n",
    "* Rotate the result back.\n",
    "\n",
    "Remark: this exercise applies morphological operator to color images. This extends the idea of generalizing morphological operators to gray value images.  "
   ]
  },
  {
   "cell_type": "markdown",
   "id": "c80848a9",
   "metadata": {
    "deletable": false,
    "editable": false,
    "nbgrader": {
     "cell_type": "markdown",
     "checksum": "edba9a279b000bbcfc08ac5d8bf5f3ff",
     "grade": false,
     "grade_id": "cell-7fbbc56de3c77426",
     "locked": true,
     "schema_version": 3,
     "solution": false
    }
   },
   "source": [
    "### b) Improving the solution\n",
    "You may get better results by thresholding and applying the morphological operations only to pixels below a threshold, i.e. gap pixels. Compliment your solution from a). "
   ]
  },
  {
   "cell_type": "code",
   "execution_count": null,
   "id": "efe74b90",
   "metadata": {
    "deletable": false,
    "nbgrader": {
     "cell_type": "code",
     "checksum": "c9900e0ceea4356e7fc14e0846e361aa",
     "grade": true,
     "grade_id": "cell-a419214d632a6cf6",
     "locked": false,
     "points": 5,
     "schema_version": 3,
     "solution": true
    }
   },
   "outputs": [],
   "source": [
    "%matplotlib inline\n",
    "import numpy as np\n",
    "import matplotlib.pyplot as plt\n",
    "import scipy.ndimage as ndimg\n",
    "from skimage import color\n",
    "from skimage.transform import rescale as rescale\n",
    "from imageio.v3 import imread\n",
    "\n",
    "\n",
    "angle = 15\n",
    "thresh = .3\n",
    "struc_elem = np.ones((5,1), dtype=bool)\n",
    "\n",
    "img = imread(\"images/landsat_stack2.png\")\n",
    "img2 = img.copy()\n",
    "img3 = img.copy()\n",
    "\n",
    "# YOUR CODE HERE\n",
    "raise NotImplementedError()\n",
    "img = (img - np.min(img))/np.ptp(img)\n",
    "img3 = (img3 - np.min(img3))/np.ptp(img3)\n",
    "\n",
    "\n",
    "plt.figure(figsize=(15,45))\n",
    "plt.subplot(3,1,1); plt.imshow(img); plt.axis('off')\n",
    "plt.subplot(3,1,2); plt.imshow(img3); plt.axis('off')\n",
    "plt.subplot(3,1,3); plt.imshow(thresh_img); plt.axis('off')\n",
    "plt.imshow(thresh_img)\n",
    "plt.show()"
   ]
  },
  {
   "cell_type": "markdown",
   "id": "665b3b81",
   "metadata": {
    "deletable": false,
    "editable": false,
    "nbgrader": {
     "cell_type": "markdown",
     "checksum": "61d14ea1beb24563386881123ab47f4e",
     "grade": false,
     "grade_id": "cell-895c6b10e93a0b17",
     "locked": true,
     "schema_version": 3,
     "solution": false
    }
   },
   "source": [
    "### c) Bonus\n",
    "Can you think of (and implement) other ways to add the missing data? \n"
   ]
  },
  {
   "cell_type": "markdown",
   "id": "19d546f3",
   "metadata": {
    "deletable": false,
    "nbgrader": {
     "cell_type": "markdown",
     "checksum": "e1443d0180f6c16e1fd3d8f65d47d8f9",
     "grade": true,
     "grade_id": "cell-5b15415ce81bdce1",
     "locked": false,
     "points": 0,
     "schema_version": 3,
     "solution": true
    }
   },
   "source": [
    "YOUR ANSWER HERE"
   ]
  },
  {
   "cell_type": "code",
   "execution_count": null,
   "id": "880e8d72",
   "metadata": {
    "deletable": false,
    "nbgrader": {
     "cell_type": "code",
     "checksum": "16c7fa0c74ac4705b01b1978e326901f",
     "grade": true,
     "grade_id": "cell-5b22c8c6979b3456",
     "locked": false,
     "points": 0,
     "schema_version": 3,
     "solution": true,
     "task": false
    }
   },
   "outputs": [],
   "source": [
    "# YOUR CODE HERE\n",
    "raise NotImplementedError()"
   ]
  }
 ],
 "metadata": {
  "kernelspec": {
   "display_name": "Python 3 (ipykernel)",
   "language": "python",
   "name": "python3"
  },
  "language_info": {
   "codemirror_mode": {
    "name": "ipython",
    "version": 3
   },
   "file_extension": ".py",
   "mimetype": "text/x-python",
   "name": "python",
   "nbconvert_exporter": "python",
   "pygments_lexer": "ipython3",
   "version": "3.10.12"
  }
 },
 "nbformat": 4,
 "nbformat_minor": 5
}
